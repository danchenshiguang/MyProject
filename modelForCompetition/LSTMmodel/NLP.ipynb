{
 "cells": [
  {
   "cell_type": "code",
   "execution_count": 12,
   "metadata": {
    "collapsed": true
   },
   "outputs": [],
   "source": [
    "import numpy as np\n",
    "import pandas as pd\n",
    "import math\n",
    "import jieba\n",
    "import os\n",
    "\n",
    "os.chdir(\"D:\\学习材料\\数学\\数学建模与实验\\美赛\\美赛进行时\\\\2023\\\\2023_MCM-ICM_Problems\")\n",
    "file = 'Problem_C_Data_Wordle.xlsx'\n",
    "df_sheet = pd.read_excel(file, sheet_name=\"Sheet1\")\n",
    "docs = df_sheet[\"Word\"]"
   ]
  },
  {
   "cell_type": "code",
   "execution_count": 3,
   "outputs": [
    {
     "data": {
      "text/plain": "['a',\n 'b',\n 'c',\n 'd',\n 'e',\n 'f',\n 'g',\n 'h',\n 'i',\n 'j',\n 'k',\n 'l',\n 'm',\n 'n',\n 'o',\n 'p',\n 'q',\n 'r',\n 's',\n 't',\n 'u',\n 'v',\n 'w',\n 'x',\n 'y',\n 'z']"
     },
     "execution_count": 3,
     "metadata": {},
     "output_type": "execute_result"
    }
   ],
   "source": [
    "letters=[chr(i)for i in range(97,123)]\n",
    "letters"
   ],
   "metadata": {
    "collapsed": false,
    "pycharm": {
     "name": "#%%\n"
    }
   }
  },
  {
   "cell_type": "code",
   "execution_count": 4,
   "outputs": [],
   "source": [
    "# 建立一个M行V列的全0矩阵，M问文档样本数，这里是行数，V为不重复词语数，即编码维度\n",
    "V = len(letters)\n",
    "M = len(docs)\n",
    "onehot = np.zeros((M, V))  # 二维矩阵要使用双括号\n",
    "tf = np.zeros((M, V))\n",
    "\n",
    "for i, doc in enumerate(docs):\n",
    "    for word in doc:\n",
    "        if word in letters:\n",
    "            pos = letters.index(word)\n",
    "            onehot[i][pos] = 1\n",
    "            tf[i][pos] += 1  # tf,统计某词语在一条样本中出现的次数\n",
    "\n",
    "row_sum = tf.sum(axis=1)  # 行相加，得到每个样本出现的词语数\n",
    "# 计算TF(t,d)\n",
    "tf = tf / row_sum[:, np.newaxis]  # 分母表示各样本出现的词语数，tf为单词在样本中出现的次数，[:,np.newaxis]作用类似于行列转置\n",
    "# 计算DF(t,D)，IDF\n",
    "df = onehot.sum(axis=0)  # 列相加，表示有多少样本包含词袋某词\n",
    "idf = list(map(lambda x: math.log10((M + 1) / (x + 1)), df))\n",
    "\n",
    "# 计算TFIDF\n",
    "tfidf = tf * np.array(idf)\n",
    "tfidf = pd.DataFrame(tfidf, columns=letters)"
   ],
   "metadata": {
    "collapsed": false,
    "pycharm": {
     "name": "#%%\n"
    }
   }
  },
  {
   "cell_type": "code",
   "execution_count": 5,
   "outputs": [
    {
     "data": {
      "text/plain": "            a    b         c         d         e    f         g         h  \\\n0    0.076623  0.0  0.000000  0.000000  0.000000  0.0  0.000000  0.000000   \n1    0.076623  0.0  0.000000  0.000000  0.000000  0.0  0.000000  0.000000   \n2    0.076623  0.0  0.144759  0.000000  0.000000  0.0  0.000000  0.142241   \n3    0.000000  0.0  0.000000  0.000000  0.067239  0.0  0.000000  0.000000   \n4    0.000000  0.0  0.144759  0.166405  0.000000  0.0  0.000000  0.000000   \n..        ...  ...       ...       ...       ...  ...       ...       ...   \n354  0.000000  0.0  0.000000  0.166405  0.000000  0.0  0.000000  0.000000   \n355  0.000000  0.0  0.000000  0.000000  0.067239  0.0  0.000000  0.000000   \n356  0.000000  0.0  0.000000  0.000000  0.067239  0.0  0.350025  0.000000   \n357  0.076623  0.0  0.144759  0.000000  0.000000  0.0  0.000000  0.000000   \n358  0.000000  0.0  0.000000  0.000000  0.000000  0.0  0.000000  0.000000   \n\n            i    j  ...        q         r         s    t         u         v  \\\n0    0.000000  0.0  ...  0.00000  0.000000  0.000000  0.0  0.000000  0.000000   \n1    0.000000  0.0  ...  0.00000  0.088472  0.000000  0.0  0.000000  0.000000   \n2    0.000000  0.0  ...  0.00000  0.000000  0.000000  0.0  0.000000  0.231672   \n3    0.112133  0.0  ...  0.00000  0.000000  0.000000  0.0  0.000000  0.000000   \n4    0.000000  0.0  ...  0.00000  0.000000  0.000000  0.0  0.000000  0.000000   \n..        ...  ...  ...      ...       ...       ...  ...       ...       ...   \n354  0.112133  0.0  ...  0.00000  0.088472  0.000000  0.0  0.000000  0.000000   \n355  0.000000  0.0  ...  0.35563  0.088472  0.000000  0.0  0.152782  0.000000   \n356  0.000000  0.0  ...  0.00000  0.088472  0.000000  0.0  0.000000  0.000000   \n357  0.000000  0.0  ...  0.00000  0.088472  0.000000  0.0  0.000000  0.000000   \n358  0.000000  0.0  ...  0.00000  0.000000  0.126405  0.0  0.152782  0.000000   \n\n       w    x         y    z  \n0    0.0  0.0  0.154195  0.0  \n1    0.0  0.0  0.000000  0.0  \n2    0.0  0.0  0.000000  0.0  \n3    0.0  0.0  0.000000  0.0  \n4    0.0  0.0  0.000000  0.0  \n..   ...  ...       ...  ...  \n354  0.0  0.0  0.000000  0.0  \n355  0.0  0.0  0.154195  0.0  \n356  0.0  0.0  0.000000  0.0  \n357  0.0  0.0  0.000000  0.0  \n358  0.0  0.0  0.000000  0.0  \n\n[359 rows x 26 columns]",
      "text/html": "<div>\n<style scoped>\n    .dataframe tbody tr th:only-of-type {\n        vertical-align: middle;\n    }\n\n    .dataframe tbody tr th {\n        vertical-align: top;\n    }\n\n    .dataframe thead th {\n        text-align: right;\n    }\n</style>\n<table border=\"1\" class=\"dataframe\">\n  <thead>\n    <tr style=\"text-align: right;\">\n      <th></th>\n      <th>a</th>\n      <th>b</th>\n      <th>c</th>\n      <th>d</th>\n      <th>e</th>\n      <th>f</th>\n      <th>g</th>\n      <th>h</th>\n      <th>i</th>\n      <th>j</th>\n      <th>...</th>\n      <th>q</th>\n      <th>r</th>\n      <th>s</th>\n      <th>t</th>\n      <th>u</th>\n      <th>v</th>\n      <th>w</th>\n      <th>x</th>\n      <th>y</th>\n      <th>z</th>\n    </tr>\n  </thead>\n  <tbody>\n    <tr>\n      <th>0</th>\n      <td>0.076623</td>\n      <td>0.0</td>\n      <td>0.000000</td>\n      <td>0.000000</td>\n      <td>0.000000</td>\n      <td>0.0</td>\n      <td>0.000000</td>\n      <td>0.000000</td>\n      <td>0.000000</td>\n      <td>0.0</td>\n      <td>...</td>\n      <td>0.00000</td>\n      <td>0.000000</td>\n      <td>0.000000</td>\n      <td>0.0</td>\n      <td>0.000000</td>\n      <td>0.000000</td>\n      <td>0.0</td>\n      <td>0.0</td>\n      <td>0.154195</td>\n      <td>0.0</td>\n    </tr>\n    <tr>\n      <th>1</th>\n      <td>0.076623</td>\n      <td>0.0</td>\n      <td>0.000000</td>\n      <td>0.000000</td>\n      <td>0.000000</td>\n      <td>0.0</td>\n      <td>0.000000</td>\n      <td>0.000000</td>\n      <td>0.000000</td>\n      <td>0.0</td>\n      <td>...</td>\n      <td>0.00000</td>\n      <td>0.088472</td>\n      <td>0.000000</td>\n      <td>0.0</td>\n      <td>0.000000</td>\n      <td>0.000000</td>\n      <td>0.0</td>\n      <td>0.0</td>\n      <td>0.000000</td>\n      <td>0.0</td>\n    </tr>\n    <tr>\n      <th>2</th>\n      <td>0.076623</td>\n      <td>0.0</td>\n      <td>0.144759</td>\n      <td>0.000000</td>\n      <td>0.000000</td>\n      <td>0.0</td>\n      <td>0.000000</td>\n      <td>0.142241</td>\n      <td>0.000000</td>\n      <td>0.0</td>\n      <td>...</td>\n      <td>0.00000</td>\n      <td>0.000000</td>\n      <td>0.000000</td>\n      <td>0.0</td>\n      <td>0.000000</td>\n      <td>0.231672</td>\n      <td>0.0</td>\n      <td>0.0</td>\n      <td>0.000000</td>\n      <td>0.0</td>\n    </tr>\n    <tr>\n      <th>3</th>\n      <td>0.000000</td>\n      <td>0.0</td>\n      <td>0.000000</td>\n      <td>0.000000</td>\n      <td>0.067239</td>\n      <td>0.0</td>\n      <td>0.000000</td>\n      <td>0.000000</td>\n      <td>0.112133</td>\n      <td>0.0</td>\n      <td>...</td>\n      <td>0.00000</td>\n      <td>0.000000</td>\n      <td>0.000000</td>\n      <td>0.0</td>\n      <td>0.000000</td>\n      <td>0.000000</td>\n      <td>0.0</td>\n      <td>0.0</td>\n      <td>0.000000</td>\n      <td>0.0</td>\n    </tr>\n    <tr>\n      <th>4</th>\n      <td>0.000000</td>\n      <td>0.0</td>\n      <td>0.144759</td>\n      <td>0.166405</td>\n      <td>0.000000</td>\n      <td>0.0</td>\n      <td>0.000000</td>\n      <td>0.000000</td>\n      <td>0.000000</td>\n      <td>0.0</td>\n      <td>...</td>\n      <td>0.00000</td>\n      <td>0.000000</td>\n      <td>0.000000</td>\n      <td>0.0</td>\n      <td>0.000000</td>\n      <td>0.000000</td>\n      <td>0.0</td>\n      <td>0.0</td>\n      <td>0.000000</td>\n      <td>0.0</td>\n    </tr>\n    <tr>\n      <th>...</th>\n      <td>...</td>\n      <td>...</td>\n      <td>...</td>\n      <td>...</td>\n      <td>...</td>\n      <td>...</td>\n      <td>...</td>\n      <td>...</td>\n      <td>...</td>\n      <td>...</td>\n      <td>...</td>\n      <td>...</td>\n      <td>...</td>\n      <td>...</td>\n      <td>...</td>\n      <td>...</td>\n      <td>...</td>\n      <td>...</td>\n      <td>...</td>\n      <td>...</td>\n      <td>...</td>\n    </tr>\n    <tr>\n      <th>354</th>\n      <td>0.000000</td>\n      <td>0.0</td>\n      <td>0.000000</td>\n      <td>0.166405</td>\n      <td>0.000000</td>\n      <td>0.0</td>\n      <td>0.000000</td>\n      <td>0.000000</td>\n      <td>0.112133</td>\n      <td>0.0</td>\n      <td>...</td>\n      <td>0.00000</td>\n      <td>0.088472</td>\n      <td>0.000000</td>\n      <td>0.0</td>\n      <td>0.000000</td>\n      <td>0.000000</td>\n      <td>0.0</td>\n      <td>0.0</td>\n      <td>0.000000</td>\n      <td>0.0</td>\n    </tr>\n    <tr>\n      <th>355</th>\n      <td>0.000000</td>\n      <td>0.0</td>\n      <td>0.000000</td>\n      <td>0.000000</td>\n      <td>0.067239</td>\n      <td>0.0</td>\n      <td>0.000000</td>\n      <td>0.000000</td>\n      <td>0.000000</td>\n      <td>0.0</td>\n      <td>...</td>\n      <td>0.35563</td>\n      <td>0.088472</td>\n      <td>0.000000</td>\n      <td>0.0</td>\n      <td>0.152782</td>\n      <td>0.000000</td>\n      <td>0.0</td>\n      <td>0.0</td>\n      <td>0.154195</td>\n      <td>0.0</td>\n    </tr>\n    <tr>\n      <th>356</th>\n      <td>0.000000</td>\n      <td>0.0</td>\n      <td>0.000000</td>\n      <td>0.000000</td>\n      <td>0.067239</td>\n      <td>0.0</td>\n      <td>0.350025</td>\n      <td>0.000000</td>\n      <td>0.000000</td>\n      <td>0.0</td>\n      <td>...</td>\n      <td>0.00000</td>\n      <td>0.088472</td>\n      <td>0.000000</td>\n      <td>0.0</td>\n      <td>0.000000</td>\n      <td>0.000000</td>\n      <td>0.0</td>\n      <td>0.0</td>\n      <td>0.000000</td>\n      <td>0.0</td>\n    </tr>\n    <tr>\n      <th>357</th>\n      <td>0.076623</td>\n      <td>0.0</td>\n      <td>0.144759</td>\n      <td>0.000000</td>\n      <td>0.000000</td>\n      <td>0.0</td>\n      <td>0.000000</td>\n      <td>0.000000</td>\n      <td>0.000000</td>\n      <td>0.0</td>\n      <td>...</td>\n      <td>0.00000</td>\n      <td>0.088472</td>\n      <td>0.000000</td>\n      <td>0.0</td>\n      <td>0.000000</td>\n      <td>0.000000</td>\n      <td>0.0</td>\n      <td>0.0</td>\n      <td>0.000000</td>\n      <td>0.0</td>\n    </tr>\n    <tr>\n      <th>358</th>\n      <td>0.000000</td>\n      <td>0.0</td>\n      <td>0.000000</td>\n      <td>0.000000</td>\n      <td>0.000000</td>\n      <td>0.0</td>\n      <td>0.000000</td>\n      <td>0.000000</td>\n      <td>0.000000</td>\n      <td>0.0</td>\n      <td>...</td>\n      <td>0.00000</td>\n      <td>0.000000</td>\n      <td>0.126405</td>\n      <td>0.0</td>\n      <td>0.152782</td>\n      <td>0.000000</td>\n      <td>0.0</td>\n      <td>0.0</td>\n      <td>0.000000</td>\n      <td>0.0</td>\n    </tr>\n  </tbody>\n</table>\n<p>359 rows × 26 columns</p>\n</div>"
     },
     "execution_count": 5,
     "metadata": {},
     "output_type": "execute_result"
    }
   ],
   "source": [
    "tfidf"
   ],
   "metadata": {
    "collapsed": false,
    "pycharm": {
     "name": "#%%\n"
    }
   }
  },
  {
   "cell_type": "code",
   "execution_count": 6,
   "outputs": [
    {
     "data": {
      "text/plain": "            a    b         c         d         e    f         g         h  \\\n358  0.000000  0.0  0.000000  0.000000  0.000000  0.0  0.000000  0.000000   \n357  0.076623  0.0  0.144759  0.000000  0.000000  0.0  0.000000  0.000000   \n356  0.000000  0.0  0.000000  0.000000  0.067239  0.0  0.350025  0.000000   \n355  0.000000  0.0  0.000000  0.000000  0.067239  0.0  0.000000  0.000000   \n354  0.000000  0.0  0.000000  0.166405  0.000000  0.0  0.000000  0.000000   \n..        ...  ...       ...       ...       ...  ...       ...       ...   \n4    0.000000  0.0  0.144759  0.166405  0.000000  0.0  0.000000  0.000000   \n3    0.000000  0.0  0.000000  0.000000  0.067239  0.0  0.000000  0.000000   \n2    0.076623  0.0  0.144759  0.000000  0.000000  0.0  0.000000  0.142241   \n1    0.076623  0.0  0.000000  0.000000  0.000000  0.0  0.000000  0.000000   \n0    0.076623  0.0  0.000000  0.000000  0.000000  0.0  0.000000  0.000000   \n\n            i    j  ...        q         r         s    t         u         v  \\\n358  0.000000  0.0  ...  0.00000  0.000000  0.126405  0.0  0.152782  0.000000   \n357  0.000000  0.0  ...  0.00000  0.088472  0.000000  0.0  0.000000  0.000000   \n356  0.000000  0.0  ...  0.00000  0.088472  0.000000  0.0  0.000000  0.000000   \n355  0.000000  0.0  ...  0.35563  0.088472  0.000000  0.0  0.152782  0.000000   \n354  0.112133  0.0  ...  0.00000  0.088472  0.000000  0.0  0.000000  0.000000   \n..        ...  ...  ...      ...       ...       ...  ...       ...       ...   \n4    0.000000  0.0  ...  0.00000  0.000000  0.000000  0.0  0.000000  0.000000   \n3    0.112133  0.0  ...  0.00000  0.000000  0.000000  0.0  0.000000  0.000000   \n2    0.000000  0.0  ...  0.00000  0.000000  0.000000  0.0  0.000000  0.231672   \n1    0.000000  0.0  ...  0.00000  0.088472  0.000000  0.0  0.000000  0.000000   \n0    0.000000  0.0  ...  0.00000  0.000000  0.000000  0.0  0.000000  0.000000   \n\n       w    x         y    z  \n358  0.0  0.0  0.000000  0.0  \n357  0.0  0.0  0.000000  0.0  \n356  0.0  0.0  0.000000  0.0  \n355  0.0  0.0  0.154195  0.0  \n354  0.0  0.0  0.000000  0.0  \n..   ...  ...       ...  ...  \n4    0.0  0.0  0.000000  0.0  \n3    0.0  0.0  0.000000  0.0  \n2    0.0  0.0  0.000000  0.0  \n1    0.0  0.0  0.000000  0.0  \n0    0.0  0.0  0.154195  0.0  \n\n[359 rows x 26 columns]",
      "text/html": "<div>\n<style scoped>\n    .dataframe tbody tr th:only-of-type {\n        vertical-align: middle;\n    }\n\n    .dataframe tbody tr th {\n        vertical-align: top;\n    }\n\n    .dataframe thead th {\n        text-align: right;\n    }\n</style>\n<table border=\"1\" class=\"dataframe\">\n  <thead>\n    <tr style=\"text-align: right;\">\n      <th></th>\n      <th>a</th>\n      <th>b</th>\n      <th>c</th>\n      <th>d</th>\n      <th>e</th>\n      <th>f</th>\n      <th>g</th>\n      <th>h</th>\n      <th>i</th>\n      <th>j</th>\n      <th>...</th>\n      <th>q</th>\n      <th>r</th>\n      <th>s</th>\n      <th>t</th>\n      <th>u</th>\n      <th>v</th>\n      <th>w</th>\n      <th>x</th>\n      <th>y</th>\n      <th>z</th>\n    </tr>\n  </thead>\n  <tbody>\n    <tr>\n      <th>358</th>\n      <td>0.000000</td>\n      <td>0.0</td>\n      <td>0.000000</td>\n      <td>0.000000</td>\n      <td>0.000000</td>\n      <td>0.0</td>\n      <td>0.000000</td>\n      <td>0.000000</td>\n      <td>0.000000</td>\n      <td>0.0</td>\n      <td>...</td>\n      <td>0.00000</td>\n      <td>0.000000</td>\n      <td>0.126405</td>\n      <td>0.0</td>\n      <td>0.152782</td>\n      <td>0.000000</td>\n      <td>0.0</td>\n      <td>0.0</td>\n      <td>0.000000</td>\n      <td>0.0</td>\n    </tr>\n    <tr>\n      <th>357</th>\n      <td>0.076623</td>\n      <td>0.0</td>\n      <td>0.144759</td>\n      <td>0.000000</td>\n      <td>0.000000</td>\n      <td>0.0</td>\n      <td>0.000000</td>\n      <td>0.000000</td>\n      <td>0.000000</td>\n      <td>0.0</td>\n      <td>...</td>\n      <td>0.00000</td>\n      <td>0.088472</td>\n      <td>0.000000</td>\n      <td>0.0</td>\n      <td>0.000000</td>\n      <td>0.000000</td>\n      <td>0.0</td>\n      <td>0.0</td>\n      <td>0.000000</td>\n      <td>0.0</td>\n    </tr>\n    <tr>\n      <th>356</th>\n      <td>0.000000</td>\n      <td>0.0</td>\n      <td>0.000000</td>\n      <td>0.000000</td>\n      <td>0.067239</td>\n      <td>0.0</td>\n      <td>0.350025</td>\n      <td>0.000000</td>\n      <td>0.000000</td>\n      <td>0.0</td>\n      <td>...</td>\n      <td>0.00000</td>\n      <td>0.088472</td>\n      <td>0.000000</td>\n      <td>0.0</td>\n      <td>0.000000</td>\n      <td>0.000000</td>\n      <td>0.0</td>\n      <td>0.0</td>\n      <td>0.000000</td>\n      <td>0.0</td>\n    </tr>\n    <tr>\n      <th>355</th>\n      <td>0.000000</td>\n      <td>0.0</td>\n      <td>0.000000</td>\n      <td>0.000000</td>\n      <td>0.067239</td>\n      <td>0.0</td>\n      <td>0.000000</td>\n      <td>0.000000</td>\n      <td>0.000000</td>\n      <td>0.0</td>\n      <td>...</td>\n      <td>0.35563</td>\n      <td>0.088472</td>\n      <td>0.000000</td>\n      <td>0.0</td>\n      <td>0.152782</td>\n      <td>0.000000</td>\n      <td>0.0</td>\n      <td>0.0</td>\n      <td>0.154195</td>\n      <td>0.0</td>\n    </tr>\n    <tr>\n      <th>354</th>\n      <td>0.000000</td>\n      <td>0.0</td>\n      <td>0.000000</td>\n      <td>0.166405</td>\n      <td>0.000000</td>\n      <td>0.0</td>\n      <td>0.000000</td>\n      <td>0.000000</td>\n      <td>0.112133</td>\n      <td>0.0</td>\n      <td>...</td>\n      <td>0.00000</td>\n      <td>0.088472</td>\n      <td>0.000000</td>\n      <td>0.0</td>\n      <td>0.000000</td>\n      <td>0.000000</td>\n      <td>0.0</td>\n      <td>0.0</td>\n      <td>0.000000</td>\n      <td>0.0</td>\n    </tr>\n    <tr>\n      <th>...</th>\n      <td>...</td>\n      <td>...</td>\n      <td>...</td>\n      <td>...</td>\n      <td>...</td>\n      <td>...</td>\n      <td>...</td>\n      <td>...</td>\n      <td>...</td>\n      <td>...</td>\n      <td>...</td>\n      <td>...</td>\n      <td>...</td>\n      <td>...</td>\n      <td>...</td>\n      <td>...</td>\n      <td>...</td>\n      <td>...</td>\n      <td>...</td>\n      <td>...</td>\n      <td>...</td>\n    </tr>\n    <tr>\n      <th>4</th>\n      <td>0.000000</td>\n      <td>0.0</td>\n      <td>0.144759</td>\n      <td>0.166405</td>\n      <td>0.000000</td>\n      <td>0.0</td>\n      <td>0.000000</td>\n      <td>0.000000</td>\n      <td>0.000000</td>\n      <td>0.0</td>\n      <td>...</td>\n      <td>0.00000</td>\n      <td>0.000000</td>\n      <td>0.000000</td>\n      <td>0.0</td>\n      <td>0.000000</td>\n      <td>0.000000</td>\n      <td>0.0</td>\n      <td>0.0</td>\n      <td>0.000000</td>\n      <td>0.0</td>\n    </tr>\n    <tr>\n      <th>3</th>\n      <td>0.000000</td>\n      <td>0.0</td>\n      <td>0.000000</td>\n      <td>0.000000</td>\n      <td>0.067239</td>\n      <td>0.0</td>\n      <td>0.000000</td>\n      <td>0.000000</td>\n      <td>0.112133</td>\n      <td>0.0</td>\n      <td>...</td>\n      <td>0.00000</td>\n      <td>0.000000</td>\n      <td>0.000000</td>\n      <td>0.0</td>\n      <td>0.000000</td>\n      <td>0.000000</td>\n      <td>0.0</td>\n      <td>0.0</td>\n      <td>0.000000</td>\n      <td>0.0</td>\n    </tr>\n    <tr>\n      <th>2</th>\n      <td>0.076623</td>\n      <td>0.0</td>\n      <td>0.144759</td>\n      <td>0.000000</td>\n      <td>0.000000</td>\n      <td>0.0</td>\n      <td>0.000000</td>\n      <td>0.142241</td>\n      <td>0.000000</td>\n      <td>0.0</td>\n      <td>...</td>\n      <td>0.00000</td>\n      <td>0.000000</td>\n      <td>0.000000</td>\n      <td>0.0</td>\n      <td>0.000000</td>\n      <td>0.231672</td>\n      <td>0.0</td>\n      <td>0.0</td>\n      <td>0.000000</td>\n      <td>0.0</td>\n    </tr>\n    <tr>\n      <th>1</th>\n      <td>0.076623</td>\n      <td>0.0</td>\n      <td>0.000000</td>\n      <td>0.000000</td>\n      <td>0.000000</td>\n      <td>0.0</td>\n      <td>0.000000</td>\n      <td>0.000000</td>\n      <td>0.000000</td>\n      <td>0.0</td>\n      <td>...</td>\n      <td>0.00000</td>\n      <td>0.088472</td>\n      <td>0.000000</td>\n      <td>0.0</td>\n      <td>0.000000</td>\n      <td>0.000000</td>\n      <td>0.0</td>\n      <td>0.0</td>\n      <td>0.000000</td>\n      <td>0.0</td>\n    </tr>\n    <tr>\n      <th>0</th>\n      <td>0.076623</td>\n      <td>0.0</td>\n      <td>0.000000</td>\n      <td>0.000000</td>\n      <td>0.000000</td>\n      <td>0.0</td>\n      <td>0.000000</td>\n      <td>0.000000</td>\n      <td>0.000000</td>\n      <td>0.0</td>\n      <td>...</td>\n      <td>0.00000</td>\n      <td>0.000000</td>\n      <td>0.000000</td>\n      <td>0.0</td>\n      <td>0.000000</td>\n      <td>0.000000</td>\n      <td>0.0</td>\n      <td>0.0</td>\n      <td>0.154195</td>\n      <td>0.0</td>\n    </tr>\n  </tbody>\n</table>\n<p>359 rows × 26 columns</p>\n</div>"
     },
     "execution_count": 6,
     "metadata": {},
     "output_type": "execute_result"
    }
   ],
   "source": [
    "tfidf.iloc[::-1]"
   ],
   "metadata": {
    "collapsed": false,
    "pycharm": {
     "name": "#%%\n"
    }
   }
  },
  {
   "cell_type": "code",
   "execution_count": 7,
   "outputs": [],
   "source": [
    "tfidf_reverse=tfidf.iloc[::-1]"
   ],
   "metadata": {
    "collapsed": false,
    "pycharm": {
     "name": "#%%\n"
    }
   }
  },
  {
   "cell_type": "code",
   "execution_count": 8,
   "outputs": [
    {
     "data": {
      "text/plain": "            a    b         c         d         e    f         g         h  \\\n358  0.000000  0.0  0.000000  0.000000  0.000000  0.0  0.000000  0.000000   \n357  0.076623  0.0  0.144759  0.000000  0.000000  0.0  0.000000  0.000000   \n356  0.000000  0.0  0.000000  0.000000  0.067239  0.0  0.350025  0.000000   \n355  0.000000  0.0  0.000000  0.000000  0.067239  0.0  0.000000  0.000000   \n354  0.000000  0.0  0.000000  0.166405  0.000000  0.0  0.000000  0.000000   \n..        ...  ...       ...       ...       ...  ...       ...       ...   \n4    0.000000  0.0  0.144759  0.166405  0.000000  0.0  0.000000  0.000000   \n3    0.000000  0.0  0.000000  0.000000  0.067239  0.0  0.000000  0.000000   \n2    0.076623  0.0  0.144759  0.000000  0.000000  0.0  0.000000  0.142241   \n1    0.076623  0.0  0.000000  0.000000  0.000000  0.0  0.000000  0.000000   \n0    0.076623  0.0  0.000000  0.000000  0.000000  0.0  0.000000  0.000000   \n\n            i    j  ...        q         r         s    t         u         v  \\\n358  0.000000  0.0  ...  0.00000  0.000000  0.126405  0.0  0.152782  0.000000   \n357  0.000000  0.0  ...  0.00000  0.088472  0.000000  0.0  0.000000  0.000000   \n356  0.000000  0.0  ...  0.00000  0.088472  0.000000  0.0  0.000000  0.000000   \n355  0.000000  0.0  ...  0.35563  0.088472  0.000000  0.0  0.152782  0.000000   \n354  0.112133  0.0  ...  0.00000  0.088472  0.000000  0.0  0.000000  0.000000   \n..        ...  ...  ...      ...       ...       ...  ...       ...       ...   \n4    0.000000  0.0  ...  0.00000  0.000000  0.000000  0.0  0.000000  0.000000   \n3    0.112133  0.0  ...  0.00000  0.000000  0.000000  0.0  0.000000  0.000000   \n2    0.000000  0.0  ...  0.00000  0.000000  0.000000  0.0  0.000000  0.231672   \n1    0.000000  0.0  ...  0.00000  0.088472  0.000000  0.0  0.000000  0.000000   \n0    0.000000  0.0  ...  0.00000  0.000000  0.000000  0.0  0.000000  0.000000   \n\n       w    x         y    z  \n358  0.0  0.0  0.000000  0.0  \n357  0.0  0.0  0.000000  0.0  \n356  0.0  0.0  0.000000  0.0  \n355  0.0  0.0  0.154195  0.0  \n354  0.0  0.0  0.000000  0.0  \n..   ...  ...       ...  ...  \n4    0.0  0.0  0.000000  0.0  \n3    0.0  0.0  0.000000  0.0  \n2    0.0  0.0  0.000000  0.0  \n1    0.0  0.0  0.000000  0.0  \n0    0.0  0.0  0.154195  0.0  \n\n[359 rows x 26 columns]",
      "text/html": "<div>\n<style scoped>\n    .dataframe tbody tr th:only-of-type {\n        vertical-align: middle;\n    }\n\n    .dataframe tbody tr th {\n        vertical-align: top;\n    }\n\n    .dataframe thead th {\n        text-align: right;\n    }\n</style>\n<table border=\"1\" class=\"dataframe\">\n  <thead>\n    <tr style=\"text-align: right;\">\n      <th></th>\n      <th>a</th>\n      <th>b</th>\n      <th>c</th>\n      <th>d</th>\n      <th>e</th>\n      <th>f</th>\n      <th>g</th>\n      <th>h</th>\n      <th>i</th>\n      <th>j</th>\n      <th>...</th>\n      <th>q</th>\n      <th>r</th>\n      <th>s</th>\n      <th>t</th>\n      <th>u</th>\n      <th>v</th>\n      <th>w</th>\n      <th>x</th>\n      <th>y</th>\n      <th>z</th>\n    </tr>\n  </thead>\n  <tbody>\n    <tr>\n      <th>358</th>\n      <td>0.000000</td>\n      <td>0.0</td>\n      <td>0.000000</td>\n      <td>0.000000</td>\n      <td>0.000000</td>\n      <td>0.0</td>\n      <td>0.000000</td>\n      <td>0.000000</td>\n      <td>0.000000</td>\n      <td>0.0</td>\n      <td>...</td>\n      <td>0.00000</td>\n      <td>0.000000</td>\n      <td>0.126405</td>\n      <td>0.0</td>\n      <td>0.152782</td>\n      <td>0.000000</td>\n      <td>0.0</td>\n      <td>0.0</td>\n      <td>0.000000</td>\n      <td>0.0</td>\n    </tr>\n    <tr>\n      <th>357</th>\n      <td>0.076623</td>\n      <td>0.0</td>\n      <td>0.144759</td>\n      <td>0.000000</td>\n      <td>0.000000</td>\n      <td>0.0</td>\n      <td>0.000000</td>\n      <td>0.000000</td>\n      <td>0.000000</td>\n      <td>0.0</td>\n      <td>...</td>\n      <td>0.00000</td>\n      <td>0.088472</td>\n      <td>0.000000</td>\n      <td>0.0</td>\n      <td>0.000000</td>\n      <td>0.000000</td>\n      <td>0.0</td>\n      <td>0.0</td>\n      <td>0.000000</td>\n      <td>0.0</td>\n    </tr>\n    <tr>\n      <th>356</th>\n      <td>0.000000</td>\n      <td>0.0</td>\n      <td>0.000000</td>\n      <td>0.000000</td>\n      <td>0.067239</td>\n      <td>0.0</td>\n      <td>0.350025</td>\n      <td>0.000000</td>\n      <td>0.000000</td>\n      <td>0.0</td>\n      <td>...</td>\n      <td>0.00000</td>\n      <td>0.088472</td>\n      <td>0.000000</td>\n      <td>0.0</td>\n      <td>0.000000</td>\n      <td>0.000000</td>\n      <td>0.0</td>\n      <td>0.0</td>\n      <td>0.000000</td>\n      <td>0.0</td>\n    </tr>\n    <tr>\n      <th>355</th>\n      <td>0.000000</td>\n      <td>0.0</td>\n      <td>0.000000</td>\n      <td>0.000000</td>\n      <td>0.067239</td>\n      <td>0.0</td>\n      <td>0.000000</td>\n      <td>0.000000</td>\n      <td>0.000000</td>\n      <td>0.0</td>\n      <td>...</td>\n      <td>0.35563</td>\n      <td>0.088472</td>\n      <td>0.000000</td>\n      <td>0.0</td>\n      <td>0.152782</td>\n      <td>0.000000</td>\n      <td>0.0</td>\n      <td>0.0</td>\n      <td>0.154195</td>\n      <td>0.0</td>\n    </tr>\n    <tr>\n      <th>354</th>\n      <td>0.000000</td>\n      <td>0.0</td>\n      <td>0.000000</td>\n      <td>0.166405</td>\n      <td>0.000000</td>\n      <td>0.0</td>\n      <td>0.000000</td>\n      <td>0.000000</td>\n      <td>0.112133</td>\n      <td>0.0</td>\n      <td>...</td>\n      <td>0.00000</td>\n      <td>0.088472</td>\n      <td>0.000000</td>\n      <td>0.0</td>\n      <td>0.000000</td>\n      <td>0.000000</td>\n      <td>0.0</td>\n      <td>0.0</td>\n      <td>0.000000</td>\n      <td>0.0</td>\n    </tr>\n    <tr>\n      <th>...</th>\n      <td>...</td>\n      <td>...</td>\n      <td>...</td>\n      <td>...</td>\n      <td>...</td>\n      <td>...</td>\n      <td>...</td>\n      <td>...</td>\n      <td>...</td>\n      <td>...</td>\n      <td>...</td>\n      <td>...</td>\n      <td>...</td>\n      <td>...</td>\n      <td>...</td>\n      <td>...</td>\n      <td>...</td>\n      <td>...</td>\n      <td>...</td>\n      <td>...</td>\n      <td>...</td>\n    </tr>\n    <tr>\n      <th>4</th>\n      <td>0.000000</td>\n      <td>0.0</td>\n      <td>0.144759</td>\n      <td>0.166405</td>\n      <td>0.000000</td>\n      <td>0.0</td>\n      <td>0.000000</td>\n      <td>0.000000</td>\n      <td>0.000000</td>\n      <td>0.0</td>\n      <td>...</td>\n      <td>0.00000</td>\n      <td>0.000000</td>\n      <td>0.000000</td>\n      <td>0.0</td>\n      <td>0.000000</td>\n      <td>0.000000</td>\n      <td>0.0</td>\n      <td>0.0</td>\n      <td>0.000000</td>\n      <td>0.0</td>\n    </tr>\n    <tr>\n      <th>3</th>\n      <td>0.000000</td>\n      <td>0.0</td>\n      <td>0.000000</td>\n      <td>0.000000</td>\n      <td>0.067239</td>\n      <td>0.0</td>\n      <td>0.000000</td>\n      <td>0.000000</td>\n      <td>0.112133</td>\n      <td>0.0</td>\n      <td>...</td>\n      <td>0.00000</td>\n      <td>0.000000</td>\n      <td>0.000000</td>\n      <td>0.0</td>\n      <td>0.000000</td>\n      <td>0.000000</td>\n      <td>0.0</td>\n      <td>0.0</td>\n      <td>0.000000</td>\n      <td>0.0</td>\n    </tr>\n    <tr>\n      <th>2</th>\n      <td>0.076623</td>\n      <td>0.0</td>\n      <td>0.144759</td>\n      <td>0.000000</td>\n      <td>0.000000</td>\n      <td>0.0</td>\n      <td>0.000000</td>\n      <td>0.142241</td>\n      <td>0.000000</td>\n      <td>0.0</td>\n      <td>...</td>\n      <td>0.00000</td>\n      <td>0.000000</td>\n      <td>0.000000</td>\n      <td>0.0</td>\n      <td>0.000000</td>\n      <td>0.231672</td>\n      <td>0.0</td>\n      <td>0.0</td>\n      <td>0.000000</td>\n      <td>0.0</td>\n    </tr>\n    <tr>\n      <th>1</th>\n      <td>0.076623</td>\n      <td>0.0</td>\n      <td>0.000000</td>\n      <td>0.000000</td>\n      <td>0.000000</td>\n      <td>0.0</td>\n      <td>0.000000</td>\n      <td>0.000000</td>\n      <td>0.000000</td>\n      <td>0.0</td>\n      <td>...</td>\n      <td>0.00000</td>\n      <td>0.088472</td>\n      <td>0.000000</td>\n      <td>0.0</td>\n      <td>0.000000</td>\n      <td>0.000000</td>\n      <td>0.0</td>\n      <td>0.0</td>\n      <td>0.000000</td>\n      <td>0.0</td>\n    </tr>\n    <tr>\n      <th>0</th>\n      <td>0.076623</td>\n      <td>0.0</td>\n      <td>0.000000</td>\n      <td>0.000000</td>\n      <td>0.000000</td>\n      <td>0.0</td>\n      <td>0.000000</td>\n      <td>0.000000</td>\n      <td>0.000000</td>\n      <td>0.0</td>\n      <td>...</td>\n      <td>0.00000</td>\n      <td>0.000000</td>\n      <td>0.000000</td>\n      <td>0.0</td>\n      <td>0.000000</td>\n      <td>0.000000</td>\n      <td>0.0</td>\n      <td>0.0</td>\n      <td>0.154195</td>\n      <td>0.0</td>\n    </tr>\n  </tbody>\n</table>\n<p>359 rows × 26 columns</p>\n</div>"
     },
     "execution_count": 8,
     "metadata": {},
     "output_type": "execute_result"
    }
   ],
   "source": [
    "tfidf_reverse"
   ],
   "metadata": {
    "collapsed": false,
    "pycharm": {
     "name": "#%%\n"
    }
   }
  },
  {
   "cell_type": "code",
   "execution_count": 9,
   "outputs": [
    {
     "data": {
      "text/plain": "            a    b         c         d         e    f         g         h  \\\n0    0.000000  0.0  0.000000  0.000000  0.000000  0.0  0.000000  0.000000   \n1    0.076623  0.0  0.144759  0.000000  0.000000  0.0  0.000000  0.000000   \n2    0.000000  0.0  0.000000  0.000000  0.067239  0.0  0.350025  0.000000   \n3    0.000000  0.0  0.000000  0.000000  0.067239  0.0  0.000000  0.000000   \n4    0.000000  0.0  0.000000  0.166405  0.000000  0.0  0.000000  0.000000   \n..        ...  ...       ...       ...       ...  ...       ...       ...   \n354  0.000000  0.0  0.144759  0.166405  0.000000  0.0  0.000000  0.000000   \n355  0.000000  0.0  0.000000  0.000000  0.067239  0.0  0.000000  0.000000   \n356  0.076623  0.0  0.144759  0.000000  0.000000  0.0  0.000000  0.142241   \n357  0.076623  0.0  0.000000  0.000000  0.000000  0.0  0.000000  0.000000   \n358  0.076623  0.0  0.000000  0.000000  0.000000  0.0  0.000000  0.000000   \n\n            i    j  ...        q         r         s    t         u         v  \\\n0    0.000000  0.0  ...  0.00000  0.000000  0.126405  0.0  0.152782  0.000000   \n1    0.000000  0.0  ...  0.00000  0.088472  0.000000  0.0  0.000000  0.000000   \n2    0.000000  0.0  ...  0.00000  0.088472  0.000000  0.0  0.000000  0.000000   \n3    0.000000  0.0  ...  0.35563  0.088472  0.000000  0.0  0.152782  0.000000   \n4    0.112133  0.0  ...  0.00000  0.088472  0.000000  0.0  0.000000  0.000000   \n..        ...  ...  ...      ...       ...       ...  ...       ...       ...   \n354  0.000000  0.0  ...  0.00000  0.000000  0.000000  0.0  0.000000  0.000000   \n355  0.112133  0.0  ...  0.00000  0.000000  0.000000  0.0  0.000000  0.000000   \n356  0.000000  0.0  ...  0.00000  0.000000  0.000000  0.0  0.000000  0.231672   \n357  0.000000  0.0  ...  0.00000  0.088472  0.000000  0.0  0.000000  0.000000   \n358  0.000000  0.0  ...  0.00000  0.000000  0.000000  0.0  0.000000  0.000000   \n\n       w    x         y    z  \n0    0.0  0.0  0.000000  0.0  \n1    0.0  0.0  0.000000  0.0  \n2    0.0  0.0  0.000000  0.0  \n3    0.0  0.0  0.154195  0.0  \n4    0.0  0.0  0.000000  0.0  \n..   ...  ...       ...  ...  \n354  0.0  0.0  0.000000  0.0  \n355  0.0  0.0  0.000000  0.0  \n356  0.0  0.0  0.000000  0.0  \n357  0.0  0.0  0.000000  0.0  \n358  0.0  0.0  0.154195  0.0  \n\n[359 rows x 26 columns]",
      "text/html": "<div>\n<style scoped>\n    .dataframe tbody tr th:only-of-type {\n        vertical-align: middle;\n    }\n\n    .dataframe tbody tr th {\n        vertical-align: top;\n    }\n\n    .dataframe thead th {\n        text-align: right;\n    }\n</style>\n<table border=\"1\" class=\"dataframe\">\n  <thead>\n    <tr style=\"text-align: right;\">\n      <th></th>\n      <th>a</th>\n      <th>b</th>\n      <th>c</th>\n      <th>d</th>\n      <th>e</th>\n      <th>f</th>\n      <th>g</th>\n      <th>h</th>\n      <th>i</th>\n      <th>j</th>\n      <th>...</th>\n      <th>q</th>\n      <th>r</th>\n      <th>s</th>\n      <th>t</th>\n      <th>u</th>\n      <th>v</th>\n      <th>w</th>\n      <th>x</th>\n      <th>y</th>\n      <th>z</th>\n    </tr>\n  </thead>\n  <tbody>\n    <tr>\n      <th>0</th>\n      <td>0.000000</td>\n      <td>0.0</td>\n      <td>0.000000</td>\n      <td>0.000000</td>\n      <td>0.000000</td>\n      <td>0.0</td>\n      <td>0.000000</td>\n      <td>0.000000</td>\n      <td>0.000000</td>\n      <td>0.0</td>\n      <td>...</td>\n      <td>0.00000</td>\n      <td>0.000000</td>\n      <td>0.126405</td>\n      <td>0.0</td>\n      <td>0.152782</td>\n      <td>0.000000</td>\n      <td>0.0</td>\n      <td>0.0</td>\n      <td>0.000000</td>\n      <td>0.0</td>\n    </tr>\n    <tr>\n      <th>1</th>\n      <td>0.076623</td>\n      <td>0.0</td>\n      <td>0.144759</td>\n      <td>0.000000</td>\n      <td>0.000000</td>\n      <td>0.0</td>\n      <td>0.000000</td>\n      <td>0.000000</td>\n      <td>0.000000</td>\n      <td>0.0</td>\n      <td>...</td>\n      <td>0.00000</td>\n      <td>0.088472</td>\n      <td>0.000000</td>\n      <td>0.0</td>\n      <td>0.000000</td>\n      <td>0.000000</td>\n      <td>0.0</td>\n      <td>0.0</td>\n      <td>0.000000</td>\n      <td>0.0</td>\n    </tr>\n    <tr>\n      <th>2</th>\n      <td>0.000000</td>\n      <td>0.0</td>\n      <td>0.000000</td>\n      <td>0.000000</td>\n      <td>0.067239</td>\n      <td>0.0</td>\n      <td>0.350025</td>\n      <td>0.000000</td>\n      <td>0.000000</td>\n      <td>0.0</td>\n      <td>...</td>\n      <td>0.00000</td>\n      <td>0.088472</td>\n      <td>0.000000</td>\n      <td>0.0</td>\n      <td>0.000000</td>\n      <td>0.000000</td>\n      <td>0.0</td>\n      <td>0.0</td>\n      <td>0.000000</td>\n      <td>0.0</td>\n    </tr>\n    <tr>\n      <th>3</th>\n      <td>0.000000</td>\n      <td>0.0</td>\n      <td>0.000000</td>\n      <td>0.000000</td>\n      <td>0.067239</td>\n      <td>0.0</td>\n      <td>0.000000</td>\n      <td>0.000000</td>\n      <td>0.000000</td>\n      <td>0.0</td>\n      <td>...</td>\n      <td>0.35563</td>\n      <td>0.088472</td>\n      <td>0.000000</td>\n      <td>0.0</td>\n      <td>0.152782</td>\n      <td>0.000000</td>\n      <td>0.0</td>\n      <td>0.0</td>\n      <td>0.154195</td>\n      <td>0.0</td>\n    </tr>\n    <tr>\n      <th>4</th>\n      <td>0.000000</td>\n      <td>0.0</td>\n      <td>0.000000</td>\n      <td>0.166405</td>\n      <td>0.000000</td>\n      <td>0.0</td>\n      <td>0.000000</td>\n      <td>0.000000</td>\n      <td>0.112133</td>\n      <td>0.0</td>\n      <td>...</td>\n      <td>0.00000</td>\n      <td>0.088472</td>\n      <td>0.000000</td>\n      <td>0.0</td>\n      <td>0.000000</td>\n      <td>0.000000</td>\n      <td>0.0</td>\n      <td>0.0</td>\n      <td>0.000000</td>\n      <td>0.0</td>\n    </tr>\n    <tr>\n      <th>...</th>\n      <td>...</td>\n      <td>...</td>\n      <td>...</td>\n      <td>...</td>\n      <td>...</td>\n      <td>...</td>\n      <td>...</td>\n      <td>...</td>\n      <td>...</td>\n      <td>...</td>\n      <td>...</td>\n      <td>...</td>\n      <td>...</td>\n      <td>...</td>\n      <td>...</td>\n      <td>...</td>\n      <td>...</td>\n      <td>...</td>\n      <td>...</td>\n      <td>...</td>\n      <td>...</td>\n    </tr>\n    <tr>\n      <th>354</th>\n      <td>0.000000</td>\n      <td>0.0</td>\n      <td>0.144759</td>\n      <td>0.166405</td>\n      <td>0.000000</td>\n      <td>0.0</td>\n      <td>0.000000</td>\n      <td>0.000000</td>\n      <td>0.000000</td>\n      <td>0.0</td>\n      <td>...</td>\n      <td>0.00000</td>\n      <td>0.000000</td>\n      <td>0.000000</td>\n      <td>0.0</td>\n      <td>0.000000</td>\n      <td>0.000000</td>\n      <td>0.0</td>\n      <td>0.0</td>\n      <td>0.000000</td>\n      <td>0.0</td>\n    </tr>\n    <tr>\n      <th>355</th>\n      <td>0.000000</td>\n      <td>0.0</td>\n      <td>0.000000</td>\n      <td>0.000000</td>\n      <td>0.067239</td>\n      <td>0.0</td>\n      <td>0.000000</td>\n      <td>0.000000</td>\n      <td>0.112133</td>\n      <td>0.0</td>\n      <td>...</td>\n      <td>0.00000</td>\n      <td>0.000000</td>\n      <td>0.000000</td>\n      <td>0.0</td>\n      <td>0.000000</td>\n      <td>0.000000</td>\n      <td>0.0</td>\n      <td>0.0</td>\n      <td>0.000000</td>\n      <td>0.0</td>\n    </tr>\n    <tr>\n      <th>356</th>\n      <td>0.076623</td>\n      <td>0.0</td>\n      <td>0.144759</td>\n      <td>0.000000</td>\n      <td>0.000000</td>\n      <td>0.0</td>\n      <td>0.000000</td>\n      <td>0.142241</td>\n      <td>0.000000</td>\n      <td>0.0</td>\n      <td>...</td>\n      <td>0.00000</td>\n      <td>0.000000</td>\n      <td>0.000000</td>\n      <td>0.0</td>\n      <td>0.000000</td>\n      <td>0.231672</td>\n      <td>0.0</td>\n      <td>0.0</td>\n      <td>0.000000</td>\n      <td>0.0</td>\n    </tr>\n    <tr>\n      <th>357</th>\n      <td>0.076623</td>\n      <td>0.0</td>\n      <td>0.000000</td>\n      <td>0.000000</td>\n      <td>0.000000</td>\n      <td>0.0</td>\n      <td>0.000000</td>\n      <td>0.000000</td>\n      <td>0.000000</td>\n      <td>0.0</td>\n      <td>...</td>\n      <td>0.00000</td>\n      <td>0.088472</td>\n      <td>0.000000</td>\n      <td>0.0</td>\n      <td>0.000000</td>\n      <td>0.000000</td>\n      <td>0.0</td>\n      <td>0.0</td>\n      <td>0.000000</td>\n      <td>0.0</td>\n    </tr>\n    <tr>\n      <th>358</th>\n      <td>0.076623</td>\n      <td>0.0</td>\n      <td>0.000000</td>\n      <td>0.000000</td>\n      <td>0.000000</td>\n      <td>0.0</td>\n      <td>0.000000</td>\n      <td>0.000000</td>\n      <td>0.000000</td>\n      <td>0.0</td>\n      <td>...</td>\n      <td>0.00000</td>\n      <td>0.000000</td>\n      <td>0.000000</td>\n      <td>0.0</td>\n      <td>0.000000</td>\n      <td>0.000000</td>\n      <td>0.0</td>\n      <td>0.0</td>\n      <td>0.154195</td>\n      <td>0.0</td>\n    </tr>\n  </tbody>\n</table>\n<p>359 rows × 26 columns</p>\n</div>"
     },
     "execution_count": 9,
     "metadata": {},
     "output_type": "execute_result"
    }
   ],
   "source": [
    "tfidf_reverse.reset_index(drop=True)"
   ],
   "metadata": {
    "collapsed": false,
    "pycharm": {
     "name": "#%%\n"
    }
   }
  },
  {
   "cell_type": "code",
   "execution_count": 10,
   "outputs": [],
   "source": [
    "tfidf_reverse.to_excel(\"tfidf_reverse.xlsx\")"
   ],
   "metadata": {
    "collapsed": false,
    "pycharm": {
     "name": "#%%\n"
    }
   }
  },
  {
   "cell_type": "code",
   "execution_count": 3,
   "outputs": [
    {
     "data": {
      "text/plain": "array([0.72494204, 0.84577687, 2.14582557])"
     },
     "execution_count": 3,
     "metadata": {},
     "output_type": "execute_result"
    }
   ],
   "source": [
    "x = np.random.randn(3)\n",
    "x"
   ],
   "metadata": {
    "collapsed": false,
    "pycharm": {
     "name": "#%%\n"
    }
   }
  },
  {
   "cell_type": "code",
   "execution_count": 13,
   "outputs": [],
   "source": [
    "#生成50个随机单词的26个ifidf属性\n",
    "letter_list=pd.read_excel('字母频数.xlsx')"
   ],
   "metadata": {
    "collapsed": false,
    "pycharm": {
     "name": "#%%\n"
    }
   }
  },
  {
   "cell_type": "code",
   "execution_count": 14,
   "outputs": [],
   "source": [
    "letter_list=letter_list['单词']"
   ],
   "metadata": {
    "collapsed": false,
    "pycharm": {
     "name": "#%%\n"
    }
   }
  },
  {
   "cell_type": "code",
   "execution_count": null,
   "outputs": [],
   "source": [
    "letter_list"
   ],
   "metadata": {
    "collapsed": false,
    "pycharm": {
     "name": "#%%\n"
    }
   }
  },
  {
   "cell_type": "code",
   "execution_count": 15,
   "outputs": [],
   "source": [
    "for i in range(0,len(letter_list)):\n",
    "    letter_list.iloc[i]=letter_list.iloc[i].lower()"
   ],
   "metadata": {
    "collapsed": false,
    "pycharm": {
     "name": "#%%\n"
    }
   }
  },
  {
   "cell_type": "code",
   "execution_count": 21,
   "outputs": [
    {
     "data": {
      "text/plain": "          0\na  0.076623\nb  0.425976\nc  0.144759\nd  0.166405\ne  0.067239\nf  0.212988\ng  0.350025\nh  0.142241\ni  0.112133\nj  0.371466\nk  0.204965\nl  0.112133\nm  0.168060\nn  0.123357\no  0.095424\np  0.151392\nq  0.355630\nr  0.088472\ns  0.126405\nt  0.093279\nu  0.152782\nv  0.231672\nw  0.212988\nx  0.320412\ny  0.154195\nz  0.355630",
      "text/html": "<div>\n<style scoped>\n    .dataframe tbody tr th:only-of-type {\n        vertical-align: middle;\n    }\n\n    .dataframe tbody tr th {\n        vertical-align: top;\n    }\n\n    .dataframe thead th {\n        text-align: right;\n    }\n</style>\n<table border=\"1\" class=\"dataframe\">\n  <thead>\n    <tr style=\"text-align: right;\">\n      <th></th>\n      <th>0</th>\n    </tr>\n  </thead>\n  <tbody>\n    <tr>\n      <th>a</th>\n      <td>0.076623</td>\n    </tr>\n    <tr>\n      <th>b</th>\n      <td>0.425976</td>\n    </tr>\n    <tr>\n      <th>c</th>\n      <td>0.144759</td>\n    </tr>\n    <tr>\n      <th>d</th>\n      <td>0.166405</td>\n    </tr>\n    <tr>\n      <th>e</th>\n      <td>0.067239</td>\n    </tr>\n    <tr>\n      <th>f</th>\n      <td>0.212988</td>\n    </tr>\n    <tr>\n      <th>g</th>\n      <td>0.350025</td>\n    </tr>\n    <tr>\n      <th>h</th>\n      <td>0.142241</td>\n    </tr>\n    <tr>\n      <th>i</th>\n      <td>0.112133</td>\n    </tr>\n    <tr>\n      <th>j</th>\n      <td>0.371466</td>\n    </tr>\n    <tr>\n      <th>k</th>\n      <td>0.204965</td>\n    </tr>\n    <tr>\n      <th>l</th>\n      <td>0.112133</td>\n    </tr>\n    <tr>\n      <th>m</th>\n      <td>0.168060</td>\n    </tr>\n    <tr>\n      <th>n</th>\n      <td>0.123357</td>\n    </tr>\n    <tr>\n      <th>o</th>\n      <td>0.095424</td>\n    </tr>\n    <tr>\n      <th>p</th>\n      <td>0.151392</td>\n    </tr>\n    <tr>\n      <th>q</th>\n      <td>0.355630</td>\n    </tr>\n    <tr>\n      <th>r</th>\n      <td>0.088472</td>\n    </tr>\n    <tr>\n      <th>s</th>\n      <td>0.126405</td>\n    </tr>\n    <tr>\n      <th>t</th>\n      <td>0.093279</td>\n    </tr>\n    <tr>\n      <th>u</th>\n      <td>0.152782</td>\n    </tr>\n    <tr>\n      <th>v</th>\n      <td>0.231672</td>\n    </tr>\n    <tr>\n      <th>w</th>\n      <td>0.212988</td>\n    </tr>\n    <tr>\n      <th>x</th>\n      <td>0.320412</td>\n    </tr>\n    <tr>\n      <th>y</th>\n      <td>0.154195</td>\n    </tr>\n    <tr>\n      <th>z</th>\n      <td>0.355630</td>\n    </tr>\n  </tbody>\n</table>\n</div>"
     },
     "execution_count": 21,
     "metadata": {},
     "output_type": "execute_result"
    }
   ],
   "source": [
    "idf_list=pd.read_excel('ifidf结果参考.xlsx')\n",
    "idf_list=idf_list.T\n",
    "idf_list"
   ],
   "metadata": {
    "collapsed": false,
    "pycharm": {
     "name": "#%%\n"
    }
   }
  },
  {
   "cell_type": "code",
   "execution_count": 17,
   "outputs": [],
   "source": [
    "random_letter_list=pd.DataFrame(columns=list('abcdefghijklmnopqrstuvwxyz'),index=range(0,150))"
   ],
   "metadata": {
    "collapsed": false,
    "pycharm": {
     "name": "#%%\n"
    }
   }
  },
  {
   "cell_type": "code",
   "execution_count": 18,
   "outputs": [
    {
     "data": {
      "text/plain": "     a  b  c  d  e  f  g  h  i  j  ...  q  r  s  t  u  v  w  x  y  z\n0    0  0  0  0  0  0  0  0  0  0  ...  0  0  0  0  0  0  0  0  0  0\n1    0  0  0  0  0  0  0  0  0  0  ...  0  0  0  0  0  0  0  0  0  0\n2    0  0  0  0  0  0  0  0  0  0  ...  0  0  0  0  0  0  0  0  0  0\n3    0  0  0  0  0  0  0  0  0  0  ...  0  0  0  0  0  0  0  0  0  0\n4    0  0  0  0  0  0  0  0  0  0  ...  0  0  0  0  0  0  0  0  0  0\n..  .. .. .. .. .. .. .. .. .. ..  ... .. .. .. .. .. .. .. .. .. ..\n145  0  0  0  0  0  0  0  0  0  0  ...  0  0  0  0  0  0  0  0  0  0\n146  0  0  0  0  0  0  0  0  0  0  ...  0  0  0  0  0  0  0  0  0  0\n147  0  0  0  0  0  0  0  0  0  0  ...  0  0  0  0  0  0  0  0  0  0\n148  0  0  0  0  0  0  0  0  0  0  ...  0  0  0  0  0  0  0  0  0  0\n149  0  0  0  0  0  0  0  0  0  0  ...  0  0  0  0  0  0  0  0  0  0\n\n[150 rows x 26 columns]",
      "text/html": "<div>\n<style scoped>\n    .dataframe tbody tr th:only-of-type {\n        vertical-align: middle;\n    }\n\n    .dataframe tbody tr th {\n        vertical-align: top;\n    }\n\n    .dataframe thead th {\n        text-align: right;\n    }\n</style>\n<table border=\"1\" class=\"dataframe\">\n  <thead>\n    <tr style=\"text-align: right;\">\n      <th></th>\n      <th>a</th>\n      <th>b</th>\n      <th>c</th>\n      <th>d</th>\n      <th>e</th>\n      <th>f</th>\n      <th>g</th>\n      <th>h</th>\n      <th>i</th>\n      <th>j</th>\n      <th>...</th>\n      <th>q</th>\n      <th>r</th>\n      <th>s</th>\n      <th>t</th>\n      <th>u</th>\n      <th>v</th>\n      <th>w</th>\n      <th>x</th>\n      <th>y</th>\n      <th>z</th>\n    </tr>\n  </thead>\n  <tbody>\n    <tr>\n      <th>0</th>\n      <td>0</td>\n      <td>0</td>\n      <td>0</td>\n      <td>0</td>\n      <td>0</td>\n      <td>0</td>\n      <td>0</td>\n      <td>0</td>\n      <td>0</td>\n      <td>0</td>\n      <td>...</td>\n      <td>0</td>\n      <td>0</td>\n      <td>0</td>\n      <td>0</td>\n      <td>0</td>\n      <td>0</td>\n      <td>0</td>\n      <td>0</td>\n      <td>0</td>\n      <td>0</td>\n    </tr>\n    <tr>\n      <th>1</th>\n      <td>0</td>\n      <td>0</td>\n      <td>0</td>\n      <td>0</td>\n      <td>0</td>\n      <td>0</td>\n      <td>0</td>\n      <td>0</td>\n      <td>0</td>\n      <td>0</td>\n      <td>...</td>\n      <td>0</td>\n      <td>0</td>\n      <td>0</td>\n      <td>0</td>\n      <td>0</td>\n      <td>0</td>\n      <td>0</td>\n      <td>0</td>\n      <td>0</td>\n      <td>0</td>\n    </tr>\n    <tr>\n      <th>2</th>\n      <td>0</td>\n      <td>0</td>\n      <td>0</td>\n      <td>0</td>\n      <td>0</td>\n      <td>0</td>\n      <td>0</td>\n      <td>0</td>\n      <td>0</td>\n      <td>0</td>\n      <td>...</td>\n      <td>0</td>\n      <td>0</td>\n      <td>0</td>\n      <td>0</td>\n      <td>0</td>\n      <td>0</td>\n      <td>0</td>\n      <td>0</td>\n      <td>0</td>\n      <td>0</td>\n    </tr>\n    <tr>\n      <th>3</th>\n      <td>0</td>\n      <td>0</td>\n      <td>0</td>\n      <td>0</td>\n      <td>0</td>\n      <td>0</td>\n      <td>0</td>\n      <td>0</td>\n      <td>0</td>\n      <td>0</td>\n      <td>...</td>\n      <td>0</td>\n      <td>0</td>\n      <td>0</td>\n      <td>0</td>\n      <td>0</td>\n      <td>0</td>\n      <td>0</td>\n      <td>0</td>\n      <td>0</td>\n      <td>0</td>\n    </tr>\n    <tr>\n      <th>4</th>\n      <td>0</td>\n      <td>0</td>\n      <td>0</td>\n      <td>0</td>\n      <td>0</td>\n      <td>0</td>\n      <td>0</td>\n      <td>0</td>\n      <td>0</td>\n      <td>0</td>\n      <td>...</td>\n      <td>0</td>\n      <td>0</td>\n      <td>0</td>\n      <td>0</td>\n      <td>0</td>\n      <td>0</td>\n      <td>0</td>\n      <td>0</td>\n      <td>0</td>\n      <td>0</td>\n    </tr>\n    <tr>\n      <th>...</th>\n      <td>...</td>\n      <td>...</td>\n      <td>...</td>\n      <td>...</td>\n      <td>...</td>\n      <td>...</td>\n      <td>...</td>\n      <td>...</td>\n      <td>...</td>\n      <td>...</td>\n      <td>...</td>\n      <td>...</td>\n      <td>...</td>\n      <td>...</td>\n      <td>...</td>\n      <td>...</td>\n      <td>...</td>\n      <td>...</td>\n      <td>...</td>\n      <td>...</td>\n      <td>...</td>\n    </tr>\n    <tr>\n      <th>145</th>\n      <td>0</td>\n      <td>0</td>\n      <td>0</td>\n      <td>0</td>\n      <td>0</td>\n      <td>0</td>\n      <td>0</td>\n      <td>0</td>\n      <td>0</td>\n      <td>0</td>\n      <td>...</td>\n      <td>0</td>\n      <td>0</td>\n      <td>0</td>\n      <td>0</td>\n      <td>0</td>\n      <td>0</td>\n      <td>0</td>\n      <td>0</td>\n      <td>0</td>\n      <td>0</td>\n    </tr>\n    <tr>\n      <th>146</th>\n      <td>0</td>\n      <td>0</td>\n      <td>0</td>\n      <td>0</td>\n      <td>0</td>\n      <td>0</td>\n      <td>0</td>\n      <td>0</td>\n      <td>0</td>\n      <td>0</td>\n      <td>...</td>\n      <td>0</td>\n      <td>0</td>\n      <td>0</td>\n      <td>0</td>\n      <td>0</td>\n      <td>0</td>\n      <td>0</td>\n      <td>0</td>\n      <td>0</td>\n      <td>0</td>\n    </tr>\n    <tr>\n      <th>147</th>\n      <td>0</td>\n      <td>0</td>\n      <td>0</td>\n      <td>0</td>\n      <td>0</td>\n      <td>0</td>\n      <td>0</td>\n      <td>0</td>\n      <td>0</td>\n      <td>0</td>\n      <td>...</td>\n      <td>0</td>\n      <td>0</td>\n      <td>0</td>\n      <td>0</td>\n      <td>0</td>\n      <td>0</td>\n      <td>0</td>\n      <td>0</td>\n      <td>0</td>\n      <td>0</td>\n    </tr>\n    <tr>\n      <th>148</th>\n      <td>0</td>\n      <td>0</td>\n      <td>0</td>\n      <td>0</td>\n      <td>0</td>\n      <td>0</td>\n      <td>0</td>\n      <td>0</td>\n      <td>0</td>\n      <td>0</td>\n      <td>...</td>\n      <td>0</td>\n      <td>0</td>\n      <td>0</td>\n      <td>0</td>\n      <td>0</td>\n      <td>0</td>\n      <td>0</td>\n      <td>0</td>\n      <td>0</td>\n      <td>0</td>\n    </tr>\n    <tr>\n      <th>149</th>\n      <td>0</td>\n      <td>0</td>\n      <td>0</td>\n      <td>0</td>\n      <td>0</td>\n      <td>0</td>\n      <td>0</td>\n      <td>0</td>\n      <td>0</td>\n      <td>0</td>\n      <td>...</td>\n      <td>0</td>\n      <td>0</td>\n      <td>0</td>\n      <td>0</td>\n      <td>0</td>\n      <td>0</td>\n      <td>0</td>\n      <td>0</td>\n      <td>0</td>\n      <td>0</td>\n    </tr>\n  </tbody>\n</table>\n<p>150 rows × 26 columns</p>\n</div>"
     },
     "execution_count": 18,
     "metadata": {},
     "output_type": "execute_result"
    }
   ],
   "source": [
    "random_letter_list.fillna(0,inplace=True)\n",
    "random_letter_list"
   ],
   "metadata": {
    "collapsed": false,
    "pycharm": {
     "name": "#%%\n"
    }
   }
  },
  {
   "cell_type": "code",
   "execution_count": 32,
   "outputs": [],
   "source": [
    "for i in range(0,150):\n",
    "    for char in letter_list[i]:\n",
    "            random_letter_list.loc[i,char]=idf_list.loc[char,0]"
   ],
   "metadata": {
    "collapsed": false,
    "pycharm": {
     "name": "#%%\n"
    }
   }
  },
  {
   "cell_type": "code",
   "execution_count": 35,
   "outputs": [],
   "source": [
    "random_letter_list.to_excel('kk.xlsx')"
   ],
   "metadata": {
    "collapsed": false,
    "pycharm": {
     "name": "#%%\n"
    }
   }
  },
  {
   "cell_type": "code",
   "execution_count": null,
   "outputs": [],
   "source": [],
   "metadata": {
    "collapsed": false,
    "pycharm": {
     "name": "#%%\n"
    }
   }
  }
 ],
 "metadata": {
  "kernelspec": {
   "display_name": "Python 3",
   "language": "python",
   "name": "python3"
  },
  "language_info": {
   "codemirror_mode": {
    "name": "ipython",
    "version": 2
   },
   "file_extension": ".py",
   "mimetype": "text/x-python",
   "name": "python",
   "nbconvert_exporter": "python",
   "pygments_lexer": "ipython2",
   "version": "2.7.6"
  }
 },
 "nbformat": 4,
 "nbformat_minor": 0
}