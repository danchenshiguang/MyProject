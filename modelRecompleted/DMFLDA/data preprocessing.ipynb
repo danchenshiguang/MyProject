{
 "cells": [
  {
   "cell_type": "code",
   "execution_count": 2,
   "metadata": {},
   "outputs": [],
   "source": [
    "import pandas as pd\n",
    "import numpy as np\n",
    "import os\n",
    "import matplotlib.pyplot as plt\n",
    "import random\n",
    "import copy\n",
    "from sklearn import svm\n",
    "from sklearn import decomposition\n",
    "from sklearn.metrics import roc_auc_score\n",
    "from sklearn import preprocessing\n",
    "import obonet\n",
    "import networkx as nx\n",
    "import math"
   ]
  },
  {
   "cell_type": "markdown",
   "metadata": {},
   "source": [
    "# Utilities"
   ]
  },
  {
   "cell_type": "markdown",
   "metadata": {},
   "source": [
    "## RNA PBPA"
   ]
  },
  {
   "cell_type": "code",
   "execution_count": 3,
   "metadata": {},
   "outputs": [],
   "source": [
    "def PBPA(RNA_i, RNA_j, di_sim, rna_di):\n",
    "    diseaseSet_i = rna_di[RNA_i] > 0\n",
    "    diseaseSet_j = rna_di[RNA_j] > 0\n",
    "    diseaseSim_ij = di_sim[diseaseSet_i][:, diseaseSet_j]\n",
    "    ijshape = diseaseSim_ij.shape\n",
    "    if ijshape[0] == 0 or ijshape[1] == 0:\n",
    "        return 0\n",
    "    return (sum(np.max(diseaseSim_ij, axis=0)) + sum(np.max(diseaseSim_ij, axis=1))) / (ijshape[0] + ijshape[1])"
   ]
  },
  {
   "cell_type": "code",
   "execution_count": 4,
   "metadata": {},
   "outputs": [],
   "source": [
    "def getRNASiNet(RNAlen, diSiNet, rna_di):\n",
    "    RNASiNet = np.zeros((RNAlen, RNAlen))\n",
    "    for i in range(RNAlen):\n",
    "        for j in range(i + 1, RNAlen):\n",
    "            RNASiNet[i, j] = RNASiNet[j, i] = PBPA(i, j, diSiNet, rna_di)\n",
    "    return RNASiNet"
   ]
  },
  {
   "cell_type": "markdown",
   "metadata": {},
   "source": [
    "## Disease Wang's"
   ]
  },
  {
   "cell_type": "code",
   "execution_count": 5,
   "metadata": {},
   "outputs": [],
   "source": [
    "url = 'https://raw.githubusercontent.com/DiseaseOntology/HumanDiseaseOntology/main/src/ontology/doid.obo'\n",
    "HDO_Net = obonet.read_obo(url)"
   ]
  },
  {
   "cell_type": "code",
   "execution_count": 6,
   "metadata": {},
   "outputs": [],
   "source": [
    "def get_SV(disease, w):\n",
    "    S = HDO_Net.subgraph(nx.descendants(HDO_Net, disease) | {disease})\n",
    "    SV = dict()\n",
    "    shortest_paths = nx.shortest_path(S, source=disease)\n",
    "    for x in shortest_paths:\n",
    "        SV[x] = math.pow(w, (len(shortest_paths[x]) - 1))\n",
    "    return SV"
   ]
  },
  {
   "cell_type": "code",
   "execution_count": 7,
   "metadata": {},
   "outputs": [],
   "source": [
    "def get_similarity(d1, d2, w):\n",
    "    SV1 = get_SV(d1, w)\n",
    "    SV2 = get_SV(d2, w)\n",
    "    intersection_value= 0\n",
    "    for disease in (set(SV1.keys()) & set(SV2.keys())):\n",
    "        intersection_value = intersection_value + SV1[disease]\n",
    "        intersection_value = intersection_value + SV2[disease]\n",
    "    return intersection_value / (sum(SV1.values()) + sum(SV2.values()))"
   ]
  },
  {
   "cell_type": "code",
   "execution_count": 8,
   "metadata": {},
   "outputs": [],
   "source": [
    "def getDiSiNet(dilen, diseases, w):\n",
    "    diSiNet = np.zeros((dilen, dilen))\n",
    "    for d1 in range(dilen):\n",
    "        if diseases[d1] in HDO_Net.nodes:\n",
    "            for d2 in range(d1 + 1, dilen):\n",
    "                if diseases[d2] in HDO_Net.nodes:\n",
    "                    diSiNet[d1, d2] = diSiNet[d2, d1] = get_similarity(diseases[d1], diseases[d2], w)\n",
    "    return diSiNet"
   ]
  },
  {
   "cell_type": "markdown",
   "metadata": {},
   "source": [
    "## 5 folds"
   ]
  },
  {
   "cell_type": "code",
   "execution_count": 9,
   "metadata": {},
   "outputs": [],
   "source": [
    "from sklearn.model_selection import KFold\n",
    "\n",
    "def folds(posi_len, nega_len, dataset):\n",
    "    positive_idx = np.array(range(0, posi_len))\n",
    "    random.shuffle(positive_idx)\n",
    "    negative_idx = np.array(range(0, nega_len))\n",
    "    random.shuffle(negative_idx)\n",
    "\n",
    "    positive5foldsidx = []\n",
    "    negative5foldsidx = []\n",
    "\n",
    "    kf = KFold(n_splits=5)\n",
    "    for train, test in kf.split(positive_idx):\n",
    "        positive_train_idx = positive_idx[train]\n",
    "        positive_test_idx = positive_idx[test]\n",
    "        positive5foldsidx.append({'train': positive_train_idx, 'test': positive_test_idx})\n",
    "    for train, test in kf.split(negative_idx[0: len(positive_idx)]):\n",
    "        negative_train_idx =negative_idx[train]\n",
    "        negative_test_idx = negative_idx[test]\n",
    "        negative5foldsidx.append({'train': negative_train_idx, 'test': np.array(list(negative_test_idx) + list(negative_idx[len(positive_idx): ]))})\n",
    "\n",
    "    # np.save('data/ours/' + dataset + '/positive5foldsidx', np.array(positive5foldsidx))\n",
    "    # np.save('data/ours/' + dataset + '/negative5foldsidx', np.array(negative5foldsidx))\n",
    "\n",
    "    # np.save('data/ours/MDA/' + dataset + '/positive5foldsidx', np.array(positive5foldsidx))\n",
    "    # np.save('data/ours/MDA/' + dataset + '/negative5foldsidx', np.array(negative5foldsidx))"
   ]
  },
  {
   "cell_type": "code",
   "execution_count": 10,
   "metadata": {},
   "outputs": [],
   "source": [
    "def get_posi_nega_ij(lnclen, dilen, lnc_di):\n",
    "    positive_ij = []\n",
    "    negative_ij = []\n",
    "    for i in range(lnclen):\n",
    "        for j in range(dilen):\n",
    "            label = lnc_di[i, j]\n",
    "            if label == 1:\n",
    "                positive_ij.append((i, j + lnclen))\n",
    "            elif label == 0:\n",
    "                negative_ij.append((i, j + lnclen))\n",
    "    positive_ij = np.array(positive_ij)\n",
    "    negative_ij = np.array(negative_ij)\n",
    "    return positive_ij, negative_ij"
   ]
  },
  {
   "cell_type": "code",
   "execution_count": 11,
   "metadata": {},
   "outputs": [],
   "source": [
    "def get_MDA_posi_nega_ij(lnclen, milen, dilen, mi_di):\n",
    "    positive_ij = []\n",
    "    negative_ij = []\n",
    "    for i in range(milen):\n",
    "        for j in range(dilen):\n",
    "            label = mi_di[i, j]\n",
    "            if label == 1:\n",
    "                positive_ij.append((lnclen + dilen + i, lnclen + j))\n",
    "            elif label == 0:\n",
    "                negative_ij.append((lnclen + dilen + i, lnclen + j))\n",
    "    positive_ij = np.array(positive_ij)\n",
    "    negative_ij = np.array(negative_ij)\n",
    "    return positive_ij, negative_ij"
   ]
  },
  {
   "cell_type": "markdown",
   "metadata": {
    "pycharm": {
     "name": "#%% md\n"
    }
   },
   "source": [
    "## cancatenate"
   ]
  },
  {
   "cell_type": "code",
   "execution_count": 12,
   "metadata": {},
   "outputs": [],
   "source": [
    "def cancatenate(lnclen, dilen, milen, lnc_di, lnc_mi, mi_di, lncSiNet, diSiNet, miSiNet):\n",
    "    A = np.zeros((lnclen + dilen + milen, lnclen + dilen + milen))\n",
    "    A[: lnclen, lnclen: lnclen + dilen] = lnc_di\n",
    "    A[lnclen: lnclen + dilen, : lnclen] = lnc_di.T\n",
    "    A[: lnclen, lnclen + dilen: ] = lnc_mi\n",
    "    A[lnclen + dilen: , : lnclen] = lnc_mi.T\n",
    "    A[lnclen: lnclen + dilen, lnclen + dilen: ] = mi_di.T\n",
    "    A[lnclen + dilen: , lnclen: lnclen + dilen] = mi_di\n",
    "    A[: lnclen, : lnclen] = lncSiNet\n",
    "    A[lnclen: lnclen + dilen, lnclen: lnclen + dilen] = diSiNet\n",
    "    A[lnclen + dilen: , lnclen + dilen: ] = miSiNet\n",
    "    return A"
   ]
  },
  {
   "cell_type": "markdown",
   "metadata": {},
   "source": [
    "# Dataset1 Fu's"
   ]
  },
  {
   "cell_type": "markdown",
   "metadata": {},
   "source": [
    "## read files"
   ]
  },
  {
   "cell_type": "code",
   "execution_count": 13,
   "metadata": {},
   "outputs": [
    {
     "ename": "FileNotFoundError",
     "evalue": "[Errno 2] No such file or directory: 'data/other datasets/Fu/lncRNA.csv'",
     "output_type": "error",
     "traceback": [
      "\u001B[1;31m---------------------------------------------------------------------------\u001B[0m",
      "\u001B[1;31mFileNotFoundError\u001B[0m                         Traceback (most recent call last)",
      "Input \u001B[1;32mIn [13]\u001B[0m, in \u001B[0;36m<cell line: 1>\u001B[1;34m()\u001B[0m\n\u001B[1;32m----> 1\u001B[0m lncRNAs \u001B[38;5;241m=\u001B[39m \u001B[38;5;28mlist\u001B[39m(\u001B[43mpd\u001B[49m\u001B[38;5;241;43m.\u001B[39;49m\u001B[43mread_csv\u001B[49m\u001B[43m(\u001B[49m\u001B[38;5;124;43m'\u001B[39;49m\u001B[38;5;124;43mdata/other datasets/Fu/lncRNA.csv\u001B[39;49m\u001B[38;5;124;43m'\u001B[39;49m\u001B[43m,\u001B[49m\u001B[43m \u001B[49m\u001B[43mheader\u001B[49m\u001B[38;5;241;43m=\u001B[39;49m\u001B[38;5;28;43;01mNone\u001B[39;49;00m\u001B[43m)\u001B[49m[\u001B[38;5;241m0\u001B[39m])\n\u001B[0;32m      2\u001B[0m miRNAs \u001B[38;5;241m=\u001B[39m \u001B[38;5;28mlist\u001B[39m(pd\u001B[38;5;241m.\u001B[39mread_csv(\u001B[38;5;124m'\u001B[39m\u001B[38;5;124mdata/other datasets/Fu/miRNA.csv\u001B[39m\u001B[38;5;124m'\u001B[39m, header\u001B[38;5;241m=\u001B[39m\u001B[38;5;28;01mNone\u001B[39;00m)[\u001B[38;5;241m0\u001B[39m])\n\u001B[0;32m      3\u001B[0m diseases \u001B[38;5;241m=\u001B[39m pd\u001B[38;5;241m.\u001B[39mread_csv(\u001B[38;5;124m'\u001B[39m\u001B[38;5;124mdata/other datasets/Fu/Disease.csv\u001B[39m\u001B[38;5;124m'\u001B[39m, header\u001B[38;5;241m=\u001B[39m\u001B[38;5;28;01mNone\u001B[39;00m)[\u001B[38;5;241m0\u001B[39m]\n",
      "File \u001B[1;32mD:\\pythonProject\\neuralNet\\pythonproject\\lib\\site-packages\\pandas\\util\\_decorators.py:311\u001B[0m, in \u001B[0;36mdeprecate_nonkeyword_arguments.<locals>.decorate.<locals>.wrapper\u001B[1;34m(*args, **kwargs)\u001B[0m\n\u001B[0;32m    305\u001B[0m \u001B[38;5;28;01mif\u001B[39;00m \u001B[38;5;28mlen\u001B[39m(args) \u001B[38;5;241m>\u001B[39m num_allow_args:\n\u001B[0;32m    306\u001B[0m     warnings\u001B[38;5;241m.\u001B[39mwarn(\n\u001B[0;32m    307\u001B[0m         msg\u001B[38;5;241m.\u001B[39mformat(arguments\u001B[38;5;241m=\u001B[39marguments),\n\u001B[0;32m    308\u001B[0m         \u001B[38;5;167;01mFutureWarning\u001B[39;00m,\n\u001B[0;32m    309\u001B[0m         stacklevel\u001B[38;5;241m=\u001B[39mstacklevel,\n\u001B[0;32m    310\u001B[0m     )\n\u001B[1;32m--> 311\u001B[0m \u001B[38;5;28;01mreturn\u001B[39;00m func(\u001B[38;5;241m*\u001B[39margs, \u001B[38;5;241m*\u001B[39m\u001B[38;5;241m*\u001B[39mkwargs)\n",
      "File \u001B[1;32mD:\\pythonProject\\neuralNet\\pythonproject\\lib\\site-packages\\pandas\\io\\parsers\\readers.py:680\u001B[0m, in \u001B[0;36mread_csv\u001B[1;34m(filepath_or_buffer, sep, delimiter, header, names, index_col, usecols, squeeze, prefix, mangle_dupe_cols, dtype, engine, converters, true_values, false_values, skipinitialspace, skiprows, skipfooter, nrows, na_values, keep_default_na, na_filter, verbose, skip_blank_lines, parse_dates, infer_datetime_format, keep_date_col, date_parser, dayfirst, cache_dates, iterator, chunksize, compression, thousands, decimal, lineterminator, quotechar, quoting, doublequote, escapechar, comment, encoding, encoding_errors, dialect, error_bad_lines, warn_bad_lines, on_bad_lines, delim_whitespace, low_memory, memory_map, float_precision, storage_options)\u001B[0m\n\u001B[0;32m    665\u001B[0m kwds_defaults \u001B[38;5;241m=\u001B[39m _refine_defaults_read(\n\u001B[0;32m    666\u001B[0m     dialect,\n\u001B[0;32m    667\u001B[0m     delimiter,\n\u001B[1;32m   (...)\u001B[0m\n\u001B[0;32m    676\u001B[0m     defaults\u001B[38;5;241m=\u001B[39m{\u001B[38;5;124m\"\u001B[39m\u001B[38;5;124mdelimiter\u001B[39m\u001B[38;5;124m\"\u001B[39m: \u001B[38;5;124m\"\u001B[39m\u001B[38;5;124m,\u001B[39m\u001B[38;5;124m\"\u001B[39m},\n\u001B[0;32m    677\u001B[0m )\n\u001B[0;32m    678\u001B[0m kwds\u001B[38;5;241m.\u001B[39mupdate(kwds_defaults)\n\u001B[1;32m--> 680\u001B[0m \u001B[38;5;28;01mreturn\u001B[39;00m \u001B[43m_read\u001B[49m\u001B[43m(\u001B[49m\u001B[43mfilepath_or_buffer\u001B[49m\u001B[43m,\u001B[49m\u001B[43m \u001B[49m\u001B[43mkwds\u001B[49m\u001B[43m)\u001B[49m\n",
      "File \u001B[1;32mD:\\pythonProject\\neuralNet\\pythonproject\\lib\\site-packages\\pandas\\io\\parsers\\readers.py:575\u001B[0m, in \u001B[0;36m_read\u001B[1;34m(filepath_or_buffer, kwds)\u001B[0m\n\u001B[0;32m    572\u001B[0m _validate_names(kwds\u001B[38;5;241m.\u001B[39mget(\u001B[38;5;124m\"\u001B[39m\u001B[38;5;124mnames\u001B[39m\u001B[38;5;124m\"\u001B[39m, \u001B[38;5;28;01mNone\u001B[39;00m))\n\u001B[0;32m    574\u001B[0m \u001B[38;5;66;03m# Create the parser.\u001B[39;00m\n\u001B[1;32m--> 575\u001B[0m parser \u001B[38;5;241m=\u001B[39m TextFileReader(filepath_or_buffer, \u001B[38;5;241m*\u001B[39m\u001B[38;5;241m*\u001B[39mkwds)\n\u001B[0;32m    577\u001B[0m \u001B[38;5;28;01mif\u001B[39;00m chunksize \u001B[38;5;129;01mor\u001B[39;00m iterator:\n\u001B[0;32m    578\u001B[0m     \u001B[38;5;28;01mreturn\u001B[39;00m parser\n",
      "File \u001B[1;32mD:\\pythonProject\\neuralNet\\pythonproject\\lib\\site-packages\\pandas\\io\\parsers\\readers.py:933\u001B[0m, in \u001B[0;36mTextFileReader.__init__\u001B[1;34m(self, f, engine, **kwds)\u001B[0m\n\u001B[0;32m    930\u001B[0m     \u001B[38;5;28mself\u001B[39m\u001B[38;5;241m.\u001B[39moptions[\u001B[38;5;124m\"\u001B[39m\u001B[38;5;124mhas_index_names\u001B[39m\u001B[38;5;124m\"\u001B[39m] \u001B[38;5;241m=\u001B[39m kwds[\u001B[38;5;124m\"\u001B[39m\u001B[38;5;124mhas_index_names\u001B[39m\u001B[38;5;124m\"\u001B[39m]\n\u001B[0;32m    932\u001B[0m \u001B[38;5;28mself\u001B[39m\u001B[38;5;241m.\u001B[39mhandles: IOHandles \u001B[38;5;241m|\u001B[39m \u001B[38;5;28;01mNone\u001B[39;00m \u001B[38;5;241m=\u001B[39m \u001B[38;5;28;01mNone\u001B[39;00m\n\u001B[1;32m--> 933\u001B[0m \u001B[38;5;28mself\u001B[39m\u001B[38;5;241m.\u001B[39m_engine \u001B[38;5;241m=\u001B[39m \u001B[38;5;28;43mself\u001B[39;49m\u001B[38;5;241;43m.\u001B[39;49m\u001B[43m_make_engine\u001B[49m\u001B[43m(\u001B[49m\u001B[43mf\u001B[49m\u001B[43m,\u001B[49m\u001B[43m \u001B[49m\u001B[38;5;28;43mself\u001B[39;49m\u001B[38;5;241;43m.\u001B[39;49m\u001B[43mengine\u001B[49m\u001B[43m)\u001B[49m\n",
      "File \u001B[1;32mD:\\pythonProject\\neuralNet\\pythonproject\\lib\\site-packages\\pandas\\io\\parsers\\readers.py:1217\u001B[0m, in \u001B[0;36mTextFileReader._make_engine\u001B[1;34m(self, f, engine)\u001B[0m\n\u001B[0;32m   1213\u001B[0m     mode \u001B[38;5;241m=\u001B[39m \u001B[38;5;124m\"\u001B[39m\u001B[38;5;124mrb\u001B[39m\u001B[38;5;124m\"\u001B[39m\n\u001B[0;32m   1214\u001B[0m \u001B[38;5;66;03m# error: No overload variant of \"get_handle\" matches argument types\u001B[39;00m\n\u001B[0;32m   1215\u001B[0m \u001B[38;5;66;03m# \"Union[str, PathLike[str], ReadCsvBuffer[bytes], ReadCsvBuffer[str]]\"\u001B[39;00m\n\u001B[0;32m   1216\u001B[0m \u001B[38;5;66;03m# , \"str\", \"bool\", \"Any\", \"Any\", \"Any\", \"Any\", \"Any\"\u001B[39;00m\n\u001B[1;32m-> 1217\u001B[0m \u001B[38;5;28mself\u001B[39m\u001B[38;5;241m.\u001B[39mhandles \u001B[38;5;241m=\u001B[39m \u001B[43mget_handle\u001B[49m\u001B[43m(\u001B[49m\u001B[43m  \u001B[49m\u001B[38;5;66;43;03m# type: ignore[call-overload]\u001B[39;49;00m\n\u001B[0;32m   1218\u001B[0m \u001B[43m    \u001B[49m\u001B[43mf\u001B[49m\u001B[43m,\u001B[49m\n\u001B[0;32m   1219\u001B[0m \u001B[43m    \u001B[49m\u001B[43mmode\u001B[49m\u001B[43m,\u001B[49m\n\u001B[0;32m   1220\u001B[0m \u001B[43m    \u001B[49m\u001B[43mencoding\u001B[49m\u001B[38;5;241;43m=\u001B[39;49m\u001B[38;5;28;43mself\u001B[39;49m\u001B[38;5;241;43m.\u001B[39;49m\u001B[43moptions\u001B[49m\u001B[38;5;241;43m.\u001B[39;49m\u001B[43mget\u001B[49m\u001B[43m(\u001B[49m\u001B[38;5;124;43m\"\u001B[39;49m\u001B[38;5;124;43mencoding\u001B[39;49m\u001B[38;5;124;43m\"\u001B[39;49m\u001B[43m,\u001B[49m\u001B[43m \u001B[49m\u001B[38;5;28;43;01mNone\u001B[39;49;00m\u001B[43m)\u001B[49m\u001B[43m,\u001B[49m\n\u001B[0;32m   1221\u001B[0m \u001B[43m    \u001B[49m\u001B[43mcompression\u001B[49m\u001B[38;5;241;43m=\u001B[39;49m\u001B[38;5;28;43mself\u001B[39;49m\u001B[38;5;241;43m.\u001B[39;49m\u001B[43moptions\u001B[49m\u001B[38;5;241;43m.\u001B[39;49m\u001B[43mget\u001B[49m\u001B[43m(\u001B[49m\u001B[38;5;124;43m\"\u001B[39;49m\u001B[38;5;124;43mcompression\u001B[39;49m\u001B[38;5;124;43m\"\u001B[39;49m\u001B[43m,\u001B[49m\u001B[43m \u001B[49m\u001B[38;5;28;43;01mNone\u001B[39;49;00m\u001B[43m)\u001B[49m\u001B[43m,\u001B[49m\n\u001B[0;32m   1222\u001B[0m \u001B[43m    \u001B[49m\u001B[43mmemory_map\u001B[49m\u001B[38;5;241;43m=\u001B[39;49m\u001B[38;5;28;43mself\u001B[39;49m\u001B[38;5;241;43m.\u001B[39;49m\u001B[43moptions\u001B[49m\u001B[38;5;241;43m.\u001B[39;49m\u001B[43mget\u001B[49m\u001B[43m(\u001B[49m\u001B[38;5;124;43m\"\u001B[39;49m\u001B[38;5;124;43mmemory_map\u001B[39;49m\u001B[38;5;124;43m\"\u001B[39;49m\u001B[43m,\u001B[49m\u001B[43m \u001B[49m\u001B[38;5;28;43;01mFalse\u001B[39;49;00m\u001B[43m)\u001B[49m\u001B[43m,\u001B[49m\n\u001B[0;32m   1223\u001B[0m \u001B[43m    \u001B[49m\u001B[43mis_text\u001B[49m\u001B[38;5;241;43m=\u001B[39;49m\u001B[43mis_text\u001B[49m\u001B[43m,\u001B[49m\n\u001B[0;32m   1224\u001B[0m \u001B[43m    \u001B[49m\u001B[43merrors\u001B[49m\u001B[38;5;241;43m=\u001B[39;49m\u001B[38;5;28;43mself\u001B[39;49m\u001B[38;5;241;43m.\u001B[39;49m\u001B[43moptions\u001B[49m\u001B[38;5;241;43m.\u001B[39;49m\u001B[43mget\u001B[49m\u001B[43m(\u001B[49m\u001B[38;5;124;43m\"\u001B[39;49m\u001B[38;5;124;43mencoding_errors\u001B[39;49m\u001B[38;5;124;43m\"\u001B[39;49m\u001B[43m,\u001B[49m\u001B[43m \u001B[49m\u001B[38;5;124;43m\"\u001B[39;49m\u001B[38;5;124;43mstrict\u001B[39;49m\u001B[38;5;124;43m\"\u001B[39;49m\u001B[43m)\u001B[49m\u001B[43m,\u001B[49m\n\u001B[0;32m   1225\u001B[0m \u001B[43m    \u001B[49m\u001B[43mstorage_options\u001B[49m\u001B[38;5;241;43m=\u001B[39;49m\u001B[38;5;28;43mself\u001B[39;49m\u001B[38;5;241;43m.\u001B[39;49m\u001B[43moptions\u001B[49m\u001B[38;5;241;43m.\u001B[39;49m\u001B[43mget\u001B[49m\u001B[43m(\u001B[49m\u001B[38;5;124;43m\"\u001B[39;49m\u001B[38;5;124;43mstorage_options\u001B[39;49m\u001B[38;5;124;43m\"\u001B[39;49m\u001B[43m,\u001B[49m\u001B[43m \u001B[49m\u001B[38;5;28;43;01mNone\u001B[39;49;00m\u001B[43m)\u001B[49m\u001B[43m,\u001B[49m\n\u001B[0;32m   1226\u001B[0m \u001B[43m\u001B[49m\u001B[43m)\u001B[49m\n\u001B[0;32m   1227\u001B[0m \u001B[38;5;28;01massert\u001B[39;00m \u001B[38;5;28mself\u001B[39m\u001B[38;5;241m.\u001B[39mhandles \u001B[38;5;129;01mis\u001B[39;00m \u001B[38;5;129;01mnot\u001B[39;00m \u001B[38;5;28;01mNone\u001B[39;00m\n\u001B[0;32m   1228\u001B[0m f \u001B[38;5;241m=\u001B[39m \u001B[38;5;28mself\u001B[39m\u001B[38;5;241m.\u001B[39mhandles\u001B[38;5;241m.\u001B[39mhandle\n",
      "File \u001B[1;32mD:\\pythonProject\\neuralNet\\pythonproject\\lib\\site-packages\\pandas\\io\\common.py:789\u001B[0m, in \u001B[0;36mget_handle\u001B[1;34m(path_or_buf, mode, encoding, compression, memory_map, is_text, errors, storage_options)\u001B[0m\n\u001B[0;32m    784\u001B[0m \u001B[38;5;28;01melif\u001B[39;00m \u001B[38;5;28misinstance\u001B[39m(handle, \u001B[38;5;28mstr\u001B[39m):\n\u001B[0;32m    785\u001B[0m     \u001B[38;5;66;03m# Check whether the filename is to be opened in binary mode.\u001B[39;00m\n\u001B[0;32m    786\u001B[0m     \u001B[38;5;66;03m# Binary mode does not support 'encoding' and 'newline'.\u001B[39;00m\n\u001B[0;32m    787\u001B[0m     \u001B[38;5;28;01mif\u001B[39;00m ioargs\u001B[38;5;241m.\u001B[39mencoding \u001B[38;5;129;01mand\u001B[39;00m \u001B[38;5;124m\"\u001B[39m\u001B[38;5;124mb\u001B[39m\u001B[38;5;124m\"\u001B[39m \u001B[38;5;129;01mnot\u001B[39;00m \u001B[38;5;129;01min\u001B[39;00m ioargs\u001B[38;5;241m.\u001B[39mmode:\n\u001B[0;32m    788\u001B[0m         \u001B[38;5;66;03m# Encoding\u001B[39;00m\n\u001B[1;32m--> 789\u001B[0m         handle \u001B[38;5;241m=\u001B[39m \u001B[38;5;28;43mopen\u001B[39;49m\u001B[43m(\u001B[49m\n\u001B[0;32m    790\u001B[0m \u001B[43m            \u001B[49m\u001B[43mhandle\u001B[49m\u001B[43m,\u001B[49m\n\u001B[0;32m    791\u001B[0m \u001B[43m            \u001B[49m\u001B[43mioargs\u001B[49m\u001B[38;5;241;43m.\u001B[39;49m\u001B[43mmode\u001B[49m\u001B[43m,\u001B[49m\n\u001B[0;32m    792\u001B[0m \u001B[43m            \u001B[49m\u001B[43mencoding\u001B[49m\u001B[38;5;241;43m=\u001B[39;49m\u001B[43mioargs\u001B[49m\u001B[38;5;241;43m.\u001B[39;49m\u001B[43mencoding\u001B[49m\u001B[43m,\u001B[49m\n\u001B[0;32m    793\u001B[0m \u001B[43m            \u001B[49m\u001B[43merrors\u001B[49m\u001B[38;5;241;43m=\u001B[39;49m\u001B[43merrors\u001B[49m\u001B[43m,\u001B[49m\n\u001B[0;32m    794\u001B[0m \u001B[43m            \u001B[49m\u001B[43mnewline\u001B[49m\u001B[38;5;241;43m=\u001B[39;49m\u001B[38;5;124;43m\"\u001B[39;49m\u001B[38;5;124;43m\"\u001B[39;49m\u001B[43m,\u001B[49m\n\u001B[0;32m    795\u001B[0m \u001B[43m        \u001B[49m\u001B[43m)\u001B[49m\n\u001B[0;32m    796\u001B[0m     \u001B[38;5;28;01melse\u001B[39;00m:\n\u001B[0;32m    797\u001B[0m         \u001B[38;5;66;03m# Binary mode\u001B[39;00m\n\u001B[0;32m    798\u001B[0m         handle \u001B[38;5;241m=\u001B[39m \u001B[38;5;28mopen\u001B[39m(handle, ioargs\u001B[38;5;241m.\u001B[39mmode)\n",
      "\u001B[1;31mFileNotFoundError\u001B[0m: [Errno 2] No such file or directory: 'data/other datasets/Fu/lncRNA.csv'"
     ]
    }
   ],
   "source": [
    "lncRNAs = list(pd.read_csv('data/other datasets/Fu/lncRNA.csv', header=None)[0])\n",
    "miRNAs = list(pd.read_csv('data/other datasets/Fu/miRNA.csv', header=None)[0])\n",
    "diseases = pd.read_csv('data/other datasets/Fu/Disease.csv', header=None)[0]\n",
    "\n",
    "lnc_mi = pd.read_csv('data/other datasets/Fu/lncRNA-miRNA.csv', header=None)\n",
    "lnc_cancer = pd.read_csv('data/other datasets/Fu/lncCancer.csv', header=None)\n",
    "lnc_di = pd.read_csv('data/other datasets/Fu/lncDisease.csv', header=None)\n",
    "lnc_di[lnc_cancer == 1] = 1\n",
    "mi_di = pd.read_csv('data/other datasets/Fu/miRNA-Disease.csv', header=None)\n",
    "\n",
    "selected = np.sum(lnc_di, axis=0) > 0\n",
    "diseases = list(diseases[selected])\n",
    "\n",
    "lnc_di = lnc_di.values[:, selected]\n",
    "lnc_mi = lnc_mi.values\n",
    "mi_di = mi_di.values[:, selected]\n",
    "print(lnc_di.shape, lnc_mi.shape, mi_di.shape)\n",
    "print(np.sum(lnc_di), np.sum(lnc_mi), np.sum(mi_di))"
   ]
  },
  {
   "cell_type": "code",
   "execution_count": 1,
   "metadata": {},
   "outputs": [],
   "source": [
    "pd.DataFrame(lnc_di, index=lncRNAs, columns=diseases).to_csv('data/ours/dataset1/lnc_di.csv')\n",
    "# pd.DataFrame(lnc_mi, index=lncRNAs, columns=miRNAs).to_csv('data/ours/dataset1/lnc_mi.csv')\n",
    "# pd.DataFrame(mi_di, index=miRNAs, columns=diseases).to_csv('data/ours/dataset1/mi_di.csv')"
   ]
  },
  {
   "cell_type": "markdown",
   "metadata": {},
   "source": [
    "## Similarity"
   ]
  },
  {
   "cell_type": "code",
   "execution_count": null,
   "metadata": {},
   "outputs": [],
   "source": [
    "dilen = len(diseases)\n",
    "lnclen = len(lncRNAs)\n",
    "milen = len(miRNAs)"
   ]
  },
  {
   "cell_type": "code",
   "execution_count": null,
   "metadata": {},
   "outputs": [],
   "source": [
    "diSiNet = getDiSiNet(dilen=dilen, diseases=diseases, w=0.5)\n",
    "plt.matshow(diSiNet, cmap= plt.cm.coolwarm, vmin=0, vmax=1)"
   ]
  },
  {
   "cell_type": "code",
   "execution_count": null,
   "metadata": {},
   "outputs": [],
   "source": [
    "miSiNet = getRNASiNet(RNAlen=milen, diSiNet=copy.copy(diSiNet), rna_di=copy.copy(mi_di))\n",
    "plt.matshow(miSiNet, cmap= plt.cm.coolwarm, vmin=0, vmax=1)"
   ]
  },
  {
   "cell_type": "markdown",
   "metadata": {},
   "source": [
    "## 5 folds"
   ]
  },
  {
   "cell_type": "code",
   "execution_count": null,
   "metadata": {},
   "outputs": [],
   "source": [
    "positive_ij, negative_ij = get_posi_nega_ij(lnclen=lnclen, dilen=dilen, lnc_di=lnc_di)\n",
    "print(positive_ij.shape, negative_ij.shape)"
   ]
  },
  {
   "cell_type": "code",
   "execution_count": null,
   "metadata": {},
   "outputs": [],
   "source": [
    "# np.save('data/ours/dataset1/positive_ij.npy', positive_ij)\n",
    "# np.save('data/ours/dataset1/negative_ij.npy', negative_ij)"
   ]
  },
  {
   "cell_type": "code",
   "execution_count": null,
   "metadata": {},
   "outputs": [],
   "source": [
    "# folds(positive_ij.shape[0], negative_ij.shape[0], 'dataset1') # Run only once"
   ]
  },
  {
   "cell_type": "code",
   "execution_count": null,
   "metadata": {},
   "outputs": [],
   "source": [
    "positive5foldsidx = np.load('data/ours/dataset1/positive5foldsidx.npy', allow_pickle=True)\n",
    "negative5foldsidx = np.load('data/ours/dataset1/negative5foldsidx.npy', allow_pickle=True)"
   ]
  },
  {
   "cell_type": "code",
   "execution_count": null,
   "metadata": {},
   "outputs": [],
   "source": [
    "lncSiNet = getRNASiNet(RNAlen=lnclen, diSiNet=copy.copy(diSiNet), rna_di=copy.copy(lnc_di))\n",
    "\n",
    "A = cancatenate(lnclen=lnclen, dilen=dilen, milen=milen, lnc_di=lnc_di, lnc_mi=lnc_mi, mi_di=mi_di, lncSiNet=lncSiNet, diSiNet=diSiNet, miSiNet=miSiNet)\n",
    "plt.matshow(A, cmap= plt.cm.coolwarm, vmin=0, vmax=1)\n",
    "# plt.savefig('data/ours/dataset1/fig/A.jpg', dpi=1200)\n",
    "# np.save('data/ours/dataset1/A', A)"
   ]
  },
  {
   "cell_type": "code",
   "execution_count": null,
   "metadata": {},
   "outputs": [],
   "source": [
    "for fold in range(5):\n",
    "    lnc_di_copy = copy.copy(lnc_di)\n",
    "    for ij in positive_ij[positive5foldsidx[fold]['test']]:\n",
    "        lnc_di_copy[ij[0], ij[1] - lnclen] = 0\n",
    "    lncSiNet_copy = getRNASiNet(RNAlen=lnclen, diSiNet=copy.copy(diSiNet), rna_di=lnc_di_copy)\n",
    "    A = cancatenate(lnclen=lnclen, dilen=dilen, milen=milen, lnc_di=lnc_di_copy, lnc_mi=lnc_mi, mi_di=mi_di, lncSiNet=lncSiNet_copy, diSiNet=diSiNet, miSiNet=miSiNet)\n",
    "    plt.matshow(A, cmap= plt.cm.coolwarm, vmin=0, vmax=1)\n",
    "    # plt.savefig('data/ours/dataset1/fig/A_' + str(fold) + '.jpg', dpi=1200)\n",
    "    # np.save('data/ours/dataset1/A_' + str(fold), A)"
   ]
  },
  {
   "cell_type": "markdown",
   "metadata": {},
   "source": [
    "# Dataset2 ours"
   ]
  },
  {
   "cell_type": "markdown",
   "metadata": {},
   "source": [
    "## read files"
   ]
  },
  {
   "cell_type": "code",
   "execution_count": null,
   "metadata": {},
   "outputs": [],
   "source": [
    "our_di_lnc = pd.read_csv('data/ours/dataset2/intersection/di_lnc_intersection.csv', index_col='Unnamed: 0')\n",
    "our_di_mi = pd.read_csv('data/ours/dataset2/intersection/di_mi_intersection.csv', index_col='Unnamed: 0')\n",
    "our_mi_lnc = pd.read_csv('data/ours/dataset2/intersection/mi_lnc_intersection.csv', index_col='Unnamed: 0')\n",
    "\n",
    "our_diseases = list(our_di_lnc.index)\n",
    "our_lncRNAs = list(our_di_lnc.columns)\n",
    "our_miRNAs = list(our_mi_lnc.index)\n",
    "\n",
    "our_lnc_di = our_di_lnc.values.T\n",
    "our_mi_di = our_di_mi.values.T\n",
    "our_lnc_mi = our_mi_lnc.values.T\n",
    "\n",
    "print(our_lnc_di.shape, our_mi_di.shape, our_lnc_mi.shape)\n",
    "print(np.sum(our_lnc_di), np.sum(our_mi_di), np.sum(our_lnc_mi))"
   ]
  },
  {
   "cell_type": "markdown",
   "metadata": {},
   "source": [
    "## Similarity"
   ]
  },
  {
   "cell_type": "code",
   "execution_count": null,
   "metadata": {},
   "outputs": [],
   "source": [
    "our_dilen = len(our_diseases)\n",
    "our_lnclen = len(our_lncRNAs)\n",
    "our_milen = len(our_miRNAs)"
   ]
  },
  {
   "cell_type": "code",
   "execution_count": null,
   "metadata": {},
   "outputs": [],
   "source": [
    "our_diSiNet = getDiSiNet(dilen=our_dilen, diseases=our_diseases, w=0.8)\n",
    "plt.matshow(our_diSiNet, cmap = plt.cm.coolwarm, vmin=0, vmax=1)"
   ]
  },
  {
   "cell_type": "code",
   "execution_count": null,
   "metadata": {},
   "outputs": [],
   "source": [
    "our_miSiNet = getRNASiNet(RNAlen=our_milen, diSiNet=copy.copy(our_diSiNet), rna_di=copy.copy(our_mi_di))\n",
    "plt.matshow(our_miSiNet, cmap = plt.cm.coolwarm, vmin=0, vmax=1)"
   ]
  },
  {
   "cell_type": "markdown",
   "metadata": {},
   "source": [
    "## 5 folds"
   ]
  },
  {
   "cell_type": "code",
   "execution_count": null,
   "metadata": {},
   "outputs": [],
   "source": [
    "our_positive_ij, our_negative_ij = get_posi_nega_ij(lnclen=our_lnclen, dilen=our_dilen, lnc_di=our_lnc_di)\n",
    "print(our_positive_ij.shape, our_negative_ij.shape)"
   ]
  },
  {
   "cell_type": "code",
   "execution_count": null,
   "metadata": {},
   "outputs": [],
   "source": [
    "# np.save('data/ours/dataset2/positive_ij.npy', our_positive_ij)\n",
    "# np.save('data/ours/dataset2/negative_ij.npy', our_negative_ij)"
   ]
  },
  {
   "cell_type": "code",
   "execution_count": null,
   "metadata": {},
   "outputs": [],
   "source": [
    "# folds(our_positive_ij.shape[0], our_negative_ij.shape[0], 'dataset2') # Run only once"
   ]
  },
  {
   "cell_type": "code",
   "execution_count": null,
   "metadata": {},
   "outputs": [],
   "source": [
    "our_positive5foldsidx = np.load('data/ours/dataset2/positive5foldsidx.npy', allow_pickle=True)\n",
    "our_negative5foldsidx = np.load('data/ours/dataset2/negative5foldsidx.npy', allow_pickle=True)"
   ]
  },
  {
   "cell_type": "code",
   "execution_count": null,
   "metadata": {},
   "outputs": [],
   "source": [
    "our_lncSiNet = getRNASiNet(RNAlen=our_lnclen, diSiNet=copy.copy(our_diSiNet), rna_di=our_lnc_di)\n",
    "\n",
    "A = cancatenate(lnclen=our_lnclen, dilen=our_dilen, milen=our_milen, lnc_di=our_lnc_di, lnc_mi=our_lnc_mi, mi_di=our_mi_di, lncSiNet=our_lncSiNet, diSiNet=our_diSiNet, miSiNet=our_miSiNet)\n",
    "plt.matshow(A, cmap = plt.cm.coolwarm, vmin=0, vmax=1)\n",
    "# plt.savefig('data/ours/dataset2/fig/A.jpg', dpi=1200)\n",
    "# np.save('data/ours/dataset2/A', A)"
   ]
  },
  {
   "cell_type": "code",
   "execution_count": null,
   "metadata": {},
   "outputs": [],
   "source": [
    "for fold in range(5):\n",
    "    our_lnc_di_copy = copy.copy(our_lnc_di)\n",
    "    for ij in our_positive_ij[our_positive5foldsidx[fold]['test']]:\n",
    "        our_lnc_di_copy[ij[0], ij[1] - our_lnclen] = 0\n",
    "    our_lncSiNet_copy = getRNASiNet(RNAlen=our_lnclen, diSiNet=copy.copy(our_diSiNet), rna_di=our_lnc_di_copy)\n",
    "    A = cancatenate(lnclen=our_lnclen, dilen=our_dilen, milen=our_milen, lnc_di=our_lnc_di_copy, lnc_mi=our_lnc_mi, mi_di=our_mi_di, lncSiNet=our_lncSiNet_copy, diSiNet=our_diSiNet, miSiNet=our_miSiNet)\n",
    "    plt.matshow(A, cmap = plt.cm.coolwarm, vmin=0, vmax=1)\n",
    "    # plt.savefig('data/ours/dataset2/fig/A_' + str(fold) + '.jpg', dpi=1200)\n",
    "    # np.save('data/ours/dataset2/A_' + str(fold), A)"
   ]
  }
 ],
 "metadata": {
  "interpreter": {
   "hash": "8d2476031e6235aad334a46b2da124ed20ecb8a9b896c786025f1a76650d16cd"
  },
  "kernelspec": {
   "display_name": "Python 3.9.6 ('dataAnalysis')",
   "language": "python",
   "name": "python3"
  },
  "language_info": {
   "codemirror_mode": {
    "name": "ipython",
    "version": 3
   },
   "file_extension": ".py",
   "mimetype": "text/x-python",
   "name": "python",
   "nbconvert_exporter": "python",
   "pygments_lexer": "ipython3",
   "version": "3.9.6"
  },
  "orig_nbformat": 4
 },
 "nbformat": 4,
 "nbformat_minor": 2
}